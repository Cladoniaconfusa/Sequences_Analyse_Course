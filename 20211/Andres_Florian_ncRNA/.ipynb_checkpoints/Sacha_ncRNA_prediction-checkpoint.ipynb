{
 "cells": [
  {
   "cell_type": "markdown",
   "metadata": {},
   "source": [
    "# ncRNA prediction pipeline\n",
    "\n",
    "For ncRNA prediction 3 programs were utilized:\n",
    "\n",
    "- Infernal: Used to predict multiple types of ncRNA comparing against the Rfam database\n",
    "- tRNAscan: Used to precit eukaryotic tRNAs\n",
    "- RNAmmer: Used to predict RNA sub\n",
    "\n",
    "## Input:\n",
    "\n",
    "1. Sacha inchi draft genome : \"Sacha_softmasked.fasta\"\n",
    "2. Sacha inchi Maker gene prediciton **(for tRNAscan only)**: \"Sacha_genepred.gff\"\n",
    "3. Rfam database covariance models (cm) **(for Infernal only)**"
   ]
  },
  {
   "cell_type": "markdown",
   "metadata": {},
   "source": [
    "<br><br><br>\n",
    "# Infernal\n",
    "\n",
    "Flowchart:<br>\n",
    "<img src=\"./images/ncRNA_analisis.png\" width=450>\n",
    "\n",
    "## Input:\n",
    "\n",
    "1. Sacha inchi draft genome : \"Sacha_softmasked.fasta\"\n",
    "3. Rfam database covariance models (cm)\n",
    "\n",
    "\n",
    "First precalibrated cms of all Rfam families are downloaded from the Rfam v14.5 FTP site, then extracted and merged to be used on infernal"
   ]
  },
  {
   "cell_type": "code",
   "execution_count": 1,
   "metadata": {
    "collapsed": true,
    "jupyter": {
     "outputs_hidden": true
    }
   },
   "outputs": [
    {
     "name": "stdout",
     "output_type": "stream",
     "text": [
      "total 8,0K\n",
      "drwxr-xr-x 2 anderjackf anderjackf 4,0K abr  5 22:36 images\n",
      "-rw-r--r-- 1 anderjackf anderjackf 2,2K abr  5 22:50 Sacha_ncRNA_prediction.ipynb\n"
     ]
    }
   ],
   "source": [
    "!mkdir rfam_cms\n",
    "!cd rfam_cms\n",
    "\n",
    "!wget ftp://ftp.ebi.ac.uk/pub/databases/Rfam/14.5/Rfam.tar.gz\n",
    "!tar -xvf Rfam.tar.gz & rm Rfam.tar.gz\n",
    "\n",
    "#All the cm files are concatenated in a file, \"all_families.cm\"\n",
    "!cat *.cm > all_families.cm\n",
    "\n",
    "!cd ..\n",
    "!ls -lh rfam_cms/"
   ]
  },
  {
   "cell_type": "markdown",
   "metadata": {},
   "source": [
    "After de Rfam data is set up we can run infernal to get predictions:"
   ]
  },
  {
   "cell_type": "code",
   "execution_count": null,
   "metadata": {},
   "outputs": [],
   "source": [
    "!genome=\"genome/Sacha_softmasked.fasta\"\n",
    "!database=\"rfam_cms/all_families.cm\"\n",
    "!mkdir infernal_output\n",
    "!output=\"infernal_output/\"\n",
    "\n",
    "!cmscan --tblout $output/result_infernal.tbl --fmt 2 --notextw --cpu 24 $database $genome"
   ]
  },
  {
   "cell_type": "markdown",
   "metadata": {},
   "source": [
    "<br><br><br>\n",
    "# tRNAscan\n",
    "\n",
    "For this prediction tRNAscan was run within MAKER gene prediction pipeline, so the results of tRNAscan prediction are withtin the sacha gff file prediction. To extract the tRNA type occurrence data, the following command is used:"
   ]
  },
  {
   "cell_type": "code",
   "execution_count": 1,
   "metadata": {},
   "outputs": [
    {
     "name": "stdout",
     "output_type": "stream",
     "text": [
      "Sup\t2\t0.003738317757009346\n",
      "Undet\t3\t0.005607476635514018\n",
      "iMet\t10\t0.018691588785046728\n",
      "Cys\t12\t0.022429906542056073\n",
      "Trp\t13\t0.024299065420560748\n",
      "His\t14\t0.026168224299065422\n",
      "Tyr\t16\t0.029906542056074768\n",
      "Asn\t16\t0.029906542056074768\n",
      "Phe\t17\t0.03177570093457944\n",
      "Gln\t18\t0.03364485981308411\n",
      "Ile\t18\t0.03364485981308411\n",
      "Asp\t24\t0.044859813084112146\n",
      "Thr\t24\t0.044859813084112146\n",
      "Lys\t24\t0.044859813084112146\n",
      "Met\t25\t0.04672897196261682\n",
      "Pseudo\t26\t0.048598130841121495\n",
      "Val\t28\t0.052336448598130844\n",
      "Pro\t28\t0.052336448598130844\n",
      "Glu\t29\t0.05420560747663551\n",
      "Ala\t33\t0.0616822429906542\n",
      "Gly\t33\t0.0616822429906542\n",
      "Arg\t34\t0.06355140186915888\n",
      "Ser\t44\t0.08224299065420561\n",
      "Leu\t44\t0.08224299065420561\n"
     ]
    }
   ],
   "source": [
    "#!grep \"trnascan\" /home/anderjackf/Universidad/Semillero_biocomp/Sacha/experimental/gene_prediction/backup/run_20/gene_models_manual_work_2.gff | egrep -o \"trnascan.*noncoding-.*-gene\" | cut -f 4 -d \"-\" | python codon_occurrence.py\n",
    "#!grep \"trnascan\" Sacha_genepred.gff | egrep -o \"trnascan.*noncoding-.*-gene\" | cut -f 4 -d \"-\" | python codon_occurrence.py"
   ]
  },
  {
   "cell_type": "code",
   "execution_count": 5,
   "metadata": {},
   "outputs": [
    {
     "name": "stdout",
     "output_type": "stream",
     "text": [
      "['Pseudo', 'Leu', 'CAA'] Pseudo_Leu CAA\n"
     ]
    }
   ],
   "source": [
    "txt = \"Pseudo_Leu_CAA\"\n",
    "\n",
    "x = txt.split(\"_\")\n",
    "\n",
    "print(x,\"_\".join(x[:-1]),x[-1]) "
   ]
  },
  {
   "cell_type": "markdown",
   "metadata": {},
   "source": [
    "In the previous result, the second column corresponds to tRNA type counts, and the third corresponds to tRNA type\n",
    "frecuency. Leucine, Serine and Arginine are the most common tRNAs found on Sacha inchi's draft genome"
   ]
  },
  {
   "cell_type": "code",
   "execution_count": null,
   "metadata": {},
   "outputs": [],
   "source": []
  },
  {
   "cell_type": "markdown",
   "metadata": {},
   "source": [
    "<br><br><br>\n",
    "# RNAmmer"
   ]
  },
  {
   "cell_type": "code",
   "execution_count": null,
   "metadata": {},
   "outputs": [],
   "source": []
  }
 ],
 "metadata": {
  "kernelspec": {
   "display_name": "Python 3",
   "language": "python",
   "name": "python3"
  },
  "language_info": {
   "codemirror_mode": {
    "name": "ipython",
    "version": 3
   },
   "file_extension": ".py",
   "mimetype": "text/x-python",
   "name": "python",
   "nbconvert_exporter": "python",
   "pygments_lexer": "ipython3",
   "version": "3.7.6"
  }
 },
 "nbformat": 4,
 "nbformat_minor": 4
}
