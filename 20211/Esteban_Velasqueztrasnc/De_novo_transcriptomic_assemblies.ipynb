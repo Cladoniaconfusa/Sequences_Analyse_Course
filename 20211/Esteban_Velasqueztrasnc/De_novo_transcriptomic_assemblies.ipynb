{
 "cells": [
  {
   "cell_type": "markdown",
   "metadata": {},
   "source": [
    "# Transcriptomic analysis"
   ]
  },
  {
   "cell_type": "markdown",
   "metadata": {},
   "source": [
    "## trimmomatic output files convention"
   ]
  },
  {
   "cell_type": "code",
   "execution_count": null,
   "metadata": {},
   "outputs": [],
   "source": [
    "Nomenclature\t\tMeaning\n",
    "FR1_nonrRNAs\t\tForward reads from the replicate 1 that did not map to ribosomal RNAs (rRNAs)\n",
    "FR2_nonrRNAs \t\tForward reads from the replicate 2 that did not map to ribosomal RNAs (rRNAs)\n",
    "RR1_nonrRNAs \t\tReverse reads from the replicate 1 that did not map to ribosomal RNAs (rRNAs)\n",
    "RR2_nonrRNAs \t\tReverse reads from the replicate 2 that did not map to ribosomal RNAs (rRNAs)\n",
    "FSE_R1_nonrRNAs \tForward single-end reads from the replicate 1 that did not map to ribosomal RNAs (rRNAs)\n",
    "FSE_R2_nonrRNAs \tForward single-end reads from the replicate 2 that did not map to ribosomal RNAs (rRNAs)\n",
    "FSE_all_nonrRNAs \tConcatenated reads from FSE_R1_nonrRNAs and FSE_R2_nonrRNAs files.\n",
    "FR1_FSE_nonrRNAs\tConcatenated forward reads plus forward single-end reads, both from replicate 1, that did not map to ribosomal RNAs (rRNAs)\n",
    "FR2_FSE_nonrRNAs\tConcatenated forward reads plus forward single-end reads, both from replicate 2, that did not map to ribosomal RNAs (rRNAs)\n",
    "F_all_nonrRNAs\t\tConcatenated reads from FR2_nonrRNAs and FR1_nonrRNAs files.\n",
    "R_all_nonrRNAs \t\tConcatenated reads from RR1_nonrRNAs and RR2_nonrRNAs files.\n",
    "R1_both_nonrRNAs \tmerged reads from FR1_nonrRNAs and RR1_nonrRNAs files.\n",
    "R2_both_nonrRNAs \tmerged reads from FR2_nonrRNAs  and  RR2_nonrRNAs files.\n",
    "R1_all_nonrRNAs \tmerged reads from RR1_nonrRNAs and FR1_FSE_nonrRNAs files.\n",
    "R2_all_nonrRNAs \tmerged reads from R2_all_nonrRNAs and FR2_FSE_nonrRNAs\n",
    "summa_nonrRNAs \t\tconcatenated reads from R2_all_nonrRNAs and R1_all_nonrRNAs \n",
    "\n"
   ]
  },
  {
   "cell_type": "markdown",
   "metadata": {},
   "source": [
    "### rnaSpades new assembly"
   ]
  },
  {
   "cell_type": "code",
   "execution_count": null,
   "metadata": {},
   "outputs": [],
   "source": [
    "#command line:\n",
    "\n"
   ]
  }
 ],
 "metadata": {
  "kernelspec": {
   "display_name": "Python 3",
   "language": "python",
   "name": "python3"
  },
  "language_info": {
   "codemirror_mode": {
    "name": "ipython",
    "version": 3
   },
   "file_extension": ".py",
   "mimetype": "text/x-python",
   "name": "python",
   "nbconvert_exporter": "python",
   "pygments_lexer": "ipython3",
   "version": "3.8.3"
  }
 },
 "nbformat": 4,
 "nbformat_minor": 4
}
