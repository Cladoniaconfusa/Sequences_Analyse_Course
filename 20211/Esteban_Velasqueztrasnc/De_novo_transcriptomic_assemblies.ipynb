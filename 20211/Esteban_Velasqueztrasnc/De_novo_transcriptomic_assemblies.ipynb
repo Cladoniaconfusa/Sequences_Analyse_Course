{
 "cells": [
  {
   "cell_type": "markdown",
   "metadata": {},
   "source": [
    "# Transcriptomic analysis"
   ]
  },
  {
   "cell_type": "markdown",
   "metadata": {},
   "source": [
    "## trimmomatic output files convention"
   ]
  },
  {
   "cell_type": "code",
   "execution_count": null,
   "metadata": {},
   "outputs": [],
   "source": [
    "Nomenclature\t\tMeaning\n",
    "FR1_nonrRNAs\t\tForward reads from the replicate 1 that did not map to ribosomal RNAs (rRNAs)\n",
    "FR2_nonrRNAs \t\tForward reads from the replicate 2 that did not map to ribosomal RNAs (rRNAs)\n",
    "RR1_nonrRNAs \t\tReverse reads from the replicate 1 that did not map to ribosomal RNAs (rRNAs)\n",
    "RR2_nonrRNAs \t\tReverse reads from the replicate 2 that did not map to ribosomal RNAs (rRNAs)\n",
    "FSE_R1_nonrRNAs \tForward single-end reads from the replicate 1 that did not map to ribosomal RNAs (rRNAs)\n",
    "FSE_R2_nonrRNAs \tForward single-end reads from the replicate 2 that did not map to ribosomal RNAs (rRNAs)\n",
    "FSE_all_nonrRNAs \tConcatenated reads from FSE_R1_nonrRNAs and FSE_R2_nonrRNAs files.\n",
    "FR1_FSE_nonrRNAs\tConcatenated forward reads plus forward single-end reads, both from replicate 1, that did not map to ribosomal RNAs (rRNAs)\n",
    "FR2_FSE_nonrRNAs\tConcatenated forward reads plus forward single-end reads, both from replicate 2, that did not map to ribosomal RNAs (rRNAs)\n",
    "F_all_nonrRNAs\t\tConcatenated reads from FR2_nonrRNAs and FR1_nonrRNAs files.\n",
    "R_all_nonrRNAs \t\tConcatenated reads from RR1_nonrRNAs and RR2_nonrRNAs files.\n",
    "R1_both_nonrRNAs \tmerged reads from FR1_nonrRNAs and RR1_nonrRNAs files.\n",
    "R2_both_nonrRNAs \tmerged reads from FR2_nonrRNAs  and  RR2_nonrRNAs files.\n",
    "R1_all_nonrRNAs \tmerged reads from RR1_nonrRNAs and FR1_FSE_nonrRNAs files.\n",
    "R2_all_nonrRNAs \tmerged reads from R2_all_nonrRNAs and FR2_FSE_nonrRNAs\n",
    "summa_nonrRNAs \t\tconcatenated reads from R2_all_nonrRNAs and R1_all_nonrRNAs \n",
    "\n"
   ]
  },
  {
   "cell_type": "code",
   "execution_count": null,
   "metadata": {},
   "outputs": [],
   "source": [
    "\n",
    "\n",
    "scp evelas13@apolo.eafit.edu.co:/home/evelas13/.dammit/databases/Pfam-A.hmm.gz /home/estevelag/Desktop/db\n",
    "/home/estevelag/Desktop: No such file or directory"
   ]
  },
  {
   "cell_type": "markdown",
   "metadata": {},
   "source": [
    "<img src=\"Diagramaflujo.png\">"
   ]
  },
  {
   "cell_type": "markdown",
   "metadata": {},
   "source": [
    "### rnaSpades new assembly"
   ]
  },
  {
   "cell_type": "markdown",
   "metadata": {},
   "source": [
    "Get the binary of the last version of spades"
   ]
  },
  {
   "cell_type": "code",
   "execution_count": null,
   "metadata": {},
   "outputs": [],
   "source": [
    "conda create -n rnaquast\n",
    "\n",
    "source activate rnaquast\n",
    "conda activate rnaquast\n",
    "conda install rnaquast=5.0.0\n",
    "#command line:slurm\n",
    "\n",
    "    \n",
    "#!/bin/bash\n",
    "#SBATCH --partition=debug\n",
    "#SBATCH --nodes=1\n",
    "#SBATCH --ntasks-per-node=1\n",
    "#SBATCH --time=0-0:10:00\n",
    "#SBATCH --job-name=rnaspades\n",
    "#SBATCH --cpus-per-task=1\n",
    "#SBATCH -o result_%N_%j.out\t # File to which STDOUT will be written\n",
    "#SBATCH -e result_%N_%j.err\t # File to which STDERR will be written\n",
    "\n",
    "#SBATCH --mail-type=ALL\n",
    "#SBATCH --mail-user=evelas13@eafit.edu.co\n",
    "\n",
    "#export SBATCH_EXPORT=NONE\n",
    "#export OMP_NUM_THREADS=1\n",
    "\n",
    "## Para apolo:\n",
    "\n",
    "#Define variables\n",
    "\n",
    "spades=/home/evelas13/polyudea/SPAdes-3.15.1-Linux/bin/spades.py\n",
    "datosF=/shared-dirs/bec-cibiop/Poliquetos/Assemblies/F_all_nonrRNAs.fq.gz\n",
    "datosR=/shared-dirs/bec-cibiop/Poliquetos/Assemblies/R_all_nonrRNAs.fq.gz\n",
    "datosS=/shared-dirs/bec-cibiop/Poliquetos/Assemblies/FSE_all_nonrRNAs.fq.gz\n",
    "output=/home/evelas13/polyudea/spadesnew_output\n",
    "\n",
    "# Run programs\n",
    "$spades --rna -1 $datosF -2 $datosR -s $datosS -o $output\n",
    "\n"
   ]
  },
  {
   "cell_type": "code",
   "execution_count": null,
   "metadata": {},
   "outputs": [],
   "source": [
    "#Note\n",
    "#To get an entire transcriptome it's better to make an assembly with all the reads in all conditions as suggested by Spades Manual"
   ]
  },
  {
   "cell_type": "code",
   "execution_count": null,
   "metadata": {},
   "outputs": [],
   "source": [
    "#Running BUSCO\n",
    "#Create an environment with BUSCO in it\n",
    "conda create -n busco\n",
    "\n",
    "source activate busco\n",
    "conda activate busco\n",
    "conda install busco=5.0.0\n",
    "\n",
    "#slurm:\n",
    "datos=/home/evelas13/polyudea/spadesnew_output/trasnscripts.fasta\n",
    "\n",
    "run_BUSCO.py -i $datos-o rnaspades -l metazoa_odb10/ -m transcriptome -c 1\n",
    "\n",
    "busco -i /home/evelas13/polyudea/spadesnew_output/trasnscripts.fasta -o rnaspades -l metazoa_odb10/ -m transcriptome -c 1\n"
   ]
  },
  {
   "cell_type": "code",
   "execution_count": null,
   "metadata": {},
   "outputs": [],
   "source": [
    "##review his command to rnaquast\n",
    "#Running RNAquast\n",
    "#Create an environment with RNAQUAST in it\n",
    "\n",
    "#slurm:\n",
    "datos=/home/evelas13/polyudea/spadesnew_output/trasnscripts.fasta\n",
    "\n",
    "python rnaQUAST.py --transcript $datos --gene_mark -o $output\n"
   ]
  },
  {
   "cell_type": "code",
   "execution_count": null,
   "metadata": {},
   "outputs": [],
   "source": [
    "#Comparison of RNAQUAST of new spaeds and old:\n",
    "\n",
    "######NEWWWWW\n",
    "\n",
    "METRICS/TRANSCRIPTS                                    transcripts              \n",
    " == BASIC TRANSCRIPTS METRICS (calculated without reference genome and gene database) == \n",
    "Transcripts                                            235092                   \n",
    "\n",
    "Transcripts > 500 bp                                   56578                    \n",
    "Transcripts > 1000 bp                                  29279                    \n",
    "\n",
    "Average length of assembled transcripts                543.426                  \n",
    "Longest transcript                                     37387                    \n",
    "Total length                                           127755067                \n",
    "\n",
    "Transcript N50                                         1040    \n",
    "######OLDDDD\n",
    "\n",
    "METRICS/TRANSCRIPTS                                    rnaspades                \n",
    " == BASIC TRANSCRIPTS METRICS (calculated without reference genome and gene database) == \n",
    "Transcripts                                            235523                   \n",
    "\n",
    "Transcripts > 500 bp                                   56726                    \n",
    "Transcripts > 1000 bp                                  29292                    \n",
    "\n",
    "Average length of assembled transcripts                542.282                  \n",
    "Longest transcript                                     37387                    \n",
    "Total length                                           127719799                \n",
    "\n",
    "Transcript N50                                         1034   \n",
    "\n",
    "\n",
    "######NEWWWWW DISHORT SUMMARY REPORT \n",
    "\n",
    "METRICS/TRANSCRIPTS                                    transcripts              \n",
    " == BASIC TRANSCRIPTS METRICS (calculated without reference genome and gene database) == \n",
    "Transcripts                                            235092                   \n",
    "\n",
    "Transcripts > 500 bp                                   56578                    \n",
    "Transcripts > 1000 bp                                  29279                    \n",
    "\n",
    "Average length of assembled transcripts                543.426                  \n",
    "Longest transcript                                     37387                    \n",
    "Total length                                           127755067                \n",
    "\n",
    "Transcript N50                                         1040    \n",
    "\n",
    "\n"
   ]
  },
  {
   "cell_type": "code",
   "execution_count": null,
   "metadata": {},
   "outputs": [],
   "source": [
    "#Comparison of BUSCO of new spaeds and old:\n",
    "\n",
    "\n",
    "######OLDDDD\n",
    "\n",
    "# BUSCO version is: 3.0.2 \n",
    "# The lineage dataset is: metazoa_odb10 (Creation date: 2019-11-20, number of species: 65, number of BUSCOs: 954)\n",
    "# To reproduce this run: python /home/apolo-cgrisales/.conda/envs/Worms/bin/run_busco -i construct/rnaspades.fasta -o rnaspades -l metazoa_odb10/ -m transcriptome -c 1\n",
    "#\n",
    "# Summarized benchmarking in BUSCO notation for file construct/rnaspades.fasta\n",
    "# BUSCO was run in mode: transcriptome\n",
    "\n",
    "        C:91.8%[S:83.5%,D:8.3%],F:6.3%,M:1.9%,n:954\n",
    "\n",
    "        876     Complete BUSCOs (C)\n",
    "        797     Complete and single-copy BUSCOs (S)\n",
    "        79      Complete and duplicated BUSCOs (D)\n",
    "        60      Fragmented BUSCOs (F)\n",
    "        18      Missing BUSCOs (M)\n",
    "        954     Total BUSCO groups searched\n",
    "(END) \n",
    "\n",
    "\n",
    "###### NEW\n",
    "# BUSCO version is: 5.0.0 \n",
    "# The lineage dataset is:  (Creation date: 2021-02-17, number of species: 65, number of BUSCOs: 954)\n",
    "# Summarized benchmarking in BUSCO notation for file /home/evelas13/polyudea/spadesnew_output/transcripts.fasta\n",
    "# BUSCO was run in mode: transcriptome\n",
    "\n",
    "        ***** Results: *****\n",
    "\n",
    "        C:91.8%[S:82.3%,D:9.5%],F:5.6%,M:2.6%,n:954        \n",
    "        876     Complete BUSCOs (C)                        \n",
    "        785     Complete and single-copy BUSCOs (S)        \n",
    "        91      Complete and duplicated BUSCOs (D)         \n",
    "        53      Fragmented BUSCOs (F)                      \n",
    "        25      Missing BUSCOs (M)                         \n",
    "        954     Total BUSCO groups searched \n",
    "\n",
    "###### NEW# BUSCO version is: 5.0.0 \n",
    "# The lineage dataset is:  (Creation date: 2021-02-17, number of species: 65, number of BUSCOs: 954)\n",
    "# Summarized benchmarking in BUSCO notation for file /home/evelas13/polyudea/spadesrest_output/transcripts.fasta\n",
    "# BUSCO was run in mode: transcriptome\n",
    "\n",
    "        ***** Results: *****\n",
    "\n",
    "        C:91.8%[S:82.9%,D:8.9%],F:5.6%,M:2.6%,n:954        \n",
    "        876     Complete BUSCOs (C)                        \n",
    "        791     Complete and single-copy BUSCOs (S)        \n",
    "        85      Complete and duplicated BUSCOs (D)         \n",
    "        53      Fragmented BUSCOs (F)                      \n",
    "        25      Missing BUSCOs (M)                         \n",
    "        954     Total BUSCO groups searched   DIFF K\n",
    "\n"
   ]
  },
  {
   "cell_type": "code",
   "execution_count": null,
   "metadata": {},
   "outputs": [],
   "source": [
    "RSEM quality assesment"
   ]
  },
  {
   "cell_type": "markdown",
   "metadata": {},
   "source": [
    "## Annotation with dammit"
   ]
  },
  {
   "cell_type": "code",
   "execution_count": null,
   "metadata": {},
   "outputs": [],
   "source": [
    "#Installing it:\n",
    "conda create -n py3.dammit python=3\n",
    "source activate py3.dammit\n",
    "conda activate py3.dammit\n",
    "\n",
    "conda config --add channels defaults\n",
    "conda config --add channels conda-forge\n",
    "conda config --add channels bioconda\n",
    "conda install dammit\n",
    "    "
   ]
  },
  {
   "cell_type": "code",
   "execution_count": null,
   "metadata": {},
   "outputs": [],
   "source": [
    "#Downloading the databases, this takes a lot of time http://dib-lab.github.io/dammit/database-about/\n",
    "#db maybe use uniref later for a better annotation, but its better to see if its not alreafy installed\n",
    "dammit databases --install --busco-group metazoa\n",
    "dammit databases --install --full --busco-group methazoa"
   ]
  },
  {
   "cell_type": "code",
   "execution_count": null,
   "metadata": {},
   "outputs": [],
   "source": [
    "#running dammit\n",
    "datos=/home/evelas13/polyudea/spadesnew_output/transcripts.fasta\n",
    "dammit annotate $datos --busco-group metazoa --n_threads 16\n",
    "\n"
   ]
  },
  {
   "cell_type": "code",
   "execution_count": null,
   "metadata": {},
   "outputs": [],
   "source": [
    "#It didn't run the first time because of this error: https://github.com/dib-lab/dammit/issues/203\n",
    "\n",
    "#iF this happens comment the line 378 ogf the annotate.py\n",
    "\n",
    "#In this case it was located\n",
    "\n",
    "vim .conda/envs/py3.dammit/lib/python3.8/site-packages/dammit/annotate.py\n",
    "\n"
   ]
  },
  {
   "cell_type": "code",
   "execution_count": null,
   "metadata": {},
   "outputs": [],
   "source": [
    "#Running dammmit\n",
    "\n",
    "datos=/home/evelas13/polyudea/spadesnew_output/transcripts.fasta\n",
    "\n",
    "dammit annotate $datos --busco-group metazoa --n_threads 16\n"
   ]
  },
  {
   "cell_type": "code",
   "execution_count": null,
   "metadata": {},
   "outputs": [],
   "source": [
    "#output\n",
    "\n",
    "annotate.doit.db\n",
    "dammit.log\n",
    "pipeliner.110336.cmds\n",
    "pipeliner.110624.cmds\n",
    "pipeliner.99460.cmds\n",
    "transcripts.fasta\n",
    "transcripts.fasta.dammit.fasta\n",
    "transcripts.fasta.dammit.gff3\n",
    "transcripts.fasta.dammit.namemap.csv\n",
    "transcripts.fasta.dammit.stats.json\n",
    "transcripts.fasta.transdecoder.bed\n",
    "transcripts.fasta.transdecoder.cds\n",
    "transcripts.fasta.transdecoder_dir\n",
    "transcripts.fasta.transdecoder_dir.__checkpoints\n",
    "transcripts.fasta.transdecoder_dir.__checkpoints_longorfs\n",
    "transcripts.fasta.transdecoder.gff3\n",
    "transcripts.fasta.transdecoder.pep\n",
    "transcripts.fasta.x.OrthoDB.best.csv\n",
    "transcripts.fasta.x.OrthoDB.best.gff3\n",
    "transcripts.fasta.x.OrthoDB.maf\n",
    "transcripts.fasta.x.pfam-A.csv\n",
    "transcripts.fasta.x.pfam-A.gff3\n",
    "transcripts.fasta.x.rfam.gff3\n",
    "transcripts.fasta.x.rfam.tbl\n",
    "transcripts.fasta.x.rfam.tbl.cmscan.out\n",
    "transcripts.fasta.x.sprot.best.csv\n",
    "transcripts.fasta.x.sprot.best.gff3\n",
    "transcripts.fasta.x.sprot.maf\n",
    "\n",
    "#uniprot missing"
   ]
  },
  {
   "cell_type": "code",
   "execution_count": null,
   "metadata": {
    "scrolled": true
   },
   "outputs": [],
   "source": [
    "#Output handling\n",
    "\n",
    "#get the environment and then in the file of dammit:\n",
    "python\n",
    "import pandas as pd\n",
    "from dammit.fileio.gff3 import GFF3Parser\n",
    "gff_file = \"transcripts.fasta.dammit.gff3\"\n",
    "annotations = GFF3Parser(filename=gff_file).read()\n",
    "names = annotations.sort_values(by=['seqid', 'score'], ascending=True).query('score < 1e-05').drop_duplicates(subset='seqid')[['seqid', 'Name']]\n",
    "new_file = names.dropna(axis=0,how='all')\n",
    "new_file.head()\n",
    "new_file.to_csv(\"polyq_gene_name_id.csv\")\n",
    "exit()\n",
    "\n",
    "#now yo can download to your computer to analyze it:\n",
    "#in your local terminal:    \n",
    "scp evelas13@apolo.eafit.edu.co:/home/evelas13/polyudea/dammit/transcripts.fasta.dammit/polyq_gene_name_id.csv /home/estevelag/Desktop    \n"
   ]
  },
  {
   "cell_type": "code",
   "execution_count": null,
   "metadata": {},
   "outputs": [],
   "source": [
    "#Viewing the fatsa annotated\n",
    "\n",
    "Transcript_4 len=32112 CDS=1-9235,8810-31817 exon=0-32112,0-32112 five_prime_UTR=31817-32112,9235-32112 gene=0-32112,0-32112 mRNA=0-32112,0-32112 hmm_matches=Spectrin:10028-10307,Spectrin:10451-10736,Plectin:1045-1114,Spectrin:10739-11021,Spectrin:11054-11237,Plectin:1105-1183,CH:11075-11174,Spectrin:11636-11789,Spectrin:11837-12098,Spectrin:12146-12362,Spectrin:12491-12734,Plectin:1273-1315,Spectrin:12815-12896,MEKHLA:12986-13115,Plectin:1327-1402,Plectin:13370-13436,Plectin:13445-13541,Plectin:13550-13622,Plectin:13607-13724,Plectin:13802-13853,Plectin:13859-13943,Plectin:13940-14009,Plectin:1399-1477,Plectin:14027-14087,Plectin:14120-14213,MEKHLA:14165-14342,Plectin:14219-14285,Plectin:14291-14357,MEKHLA:14393-14531,Plectin:14399-14468,Plectin:14483-14570,Plectin:14597-14651,Plectin:14651-14750,MEKHLA:14735-14921,Plectin:14819-14864,Plectin:14870-14936,Plectin:15389-15470,Plectin:15695-15755,Plectin:15773-15851,Plectin:15914-15986,Plectin:16013-16073,Plectin:16145-16214,Plectin:16232-16301,Plectin:16397-16454,Plectin:16472-16541,Plectin:16679-16751,MEKHLA:16715-16808,Plectin:16766-16844,Plectin:16913-16985,Plectin:16997-17063,MEKHLA:17174-17252,Plectin:17177-17267,MEKHLA:17498-17693,Plectin:17507-17552,Plectin:17561-17633,Plectin:17645-17708,Plectin:17819-17930,Plectin:1789-1867,Plectin:17927-17999,Plectin:18008-18080,Plectin:18113-18176,MEKHLA:18128-18254,Plectin:18182-18254,Plectin:18269-18326,Plectin:1888-1945,Plectin:19166-19235,Plectin:19253-19340,Plectin:19448-19517,Plectin:19523-19592,Plectin:1963-2017,Plectin:19697-19736,Plectin:19742-19817,MEKHLA:19892-20039,Plectin:19937-19988,Plectin:19991-20048,Plectin:20099-20129,Plectin:20150-20207,Plectin:20336-20387,Plectin:20399-20456,Plectin:20663-20741,Plectin:20747-20819,Plectin:20804-20891,Plectin:2089-2164,Plectin:20969-21038,Plectin:21065-21104,Plectin:21191-21269,Plectin:21272-21329,Plectin:21413-21494,Plectin:21488-21560,Plectin:21617-21695,Plectin:2170-2236,Plectin:21713-21776,Plectin:21860-21926,Plectin:21944-22004,Plectin:22088-22169,Plectin:22181-22232,Plectin:22307-22376,Plectin:22400-22451,Plectin:22547-22610,Plectin:22628-22688,Plectin:2269-2311,Plectin:22793-22868,Plectin:22865-22943,Plectin:23018-23087,Plectin:23096-23159,Plectin:23366-23402,Plectin:23396-23477,Plectin:23819-23867,Plectin:23876-23945,Plectin:23924-24005,MEKHLA:23936-24062,Plectin:24014-24074,Plectin:2407-2455,Plectin:24104-24167,Plectin:24176-24254,Plectin:2464-2512,Plectin:24833-24899,Plectin:24896-24983,Plectin:24992-25058,MEKHLA:25001-25112,Plectin:25058-25130,Plectin:2509-2587,MEKHLA:25151-25262,Plectin:25178-25286,Plectin:25280-25361,Plectin:25346-25424,Plectin:25511-25559,Plectin:25574-25643,Plectin:25640-25715,Plectin:25937-26006,Plectin:2599-2674,Plectin:26003-26075,Plectin:26198-26261,Plectin:26279-26345,MEKHLA:26294-26408,Plectin:26492-26567,Plectin:26588-26648,Plectin:26663-26723,Plectin:2671-2749,Plectin:26798-26864,MEKHLA:26825-26945,Plectin:26843-26939,Plectin:26945-27008,Plectin:27086-27158,Plectin:27164-27239,Plectin:27305-27356,Plectin:27362-27437,Plectin:27446-27503,Plectin:27530-27611,Plectin:2761-2803,Plectin:27632-27704,Plectin:27713-27782,Plectin:27923-27992,Plectin:28007-28070,Plectin:28067-28136,Plectin:2809-2887,Plectin:28184-28226,Plectin:28229-28304,Plectin:28325-28388,MEKHLA:28532-28667,Plectin:28535-28577,Plectin:28574-28658,Plectin:28679-28733,Plectin:28895-28967,Plectin:2896-2965,Plectin:29126-29228,Plectin:29321-29384,Plectin:29489-29564,Plectin:29579-29666,MEKHLA:29606-29702,Plectin:2971-3043,Plectin:29726-29789,Plectin:29786-29861,Plectin:29888-29942,Plectin:3019-3115,Plectin:30251-30335,Plectin:30344-30404,MEKHLA:30737-30866,Plectin:30830-30896,Plectin:30899-30974,Plectin:30965-31043,Plectin:31130-31175,MEKHLA:31184-31316,Plectin:31187-31262,Plectin:31259-31346,Plectin:3217-3289,Plectin:3346-3454,Plectin:3466-3532,Plectin:3667-3748,Plectin:3775-3826,Plectin:3988-4066,Plectin:4087-4147,Plectin:4156-4225,Plectin:4243-4288,Plectin:4291-4345,Plectin:4348-4444,Plectin:4480-4534,Plectin:4606-4654,Plectin:4648-4735,Plectin:4741-4819,Plectin:4825-4885,Plectin:4957-5035,Plectin:5053-5125,Plectin:5188-5260,Plectin:5275-5359,Plectin:5362-5473,Plectin:5470-5551,Plectin:5560-5635,Plectin:5695-5740,Plectin:5746-5818,Plectin:5833-5902,Plectin:5932-5980,Plectin:6007-6055,Plectin:6049-6130,Plectin:6163-6217,Plectin:6190-6283,Plectin:6355-6421,Plectin:6442-6505,Plectin:6505-6574,Plectin:6646-6724,Plectin:6733-6808,Plectin:6820-6877,Plectin:6925-6967,Plectin:6973-7051,Plectin:7057-7126,Plectin:7255-7348,Plectin:7342-7417,Plectin:7516-7564,Plectin:7561-7645,Plectin:7657-7723,Plectin:7723-7804,Plectin:7831-7867,Plectin:7876-7957,Plectin:7966-8035,Plectin:8047-8110,Plectin:8116-8170,Plectin:8167-8239,Plectin:8257-8326,Plectin:8344-8392,Plectin:8401-8437,Plectin:8449-8524,Plectin:8539-8605,Plectin:8602-8671,Plectin:8707-8755,Plectin:8752-8830,Plectin:8842-8929,CH:8954-9248,Plectin:9028-9070,Plectin:9082-9163,CH:9299-9599,Plectin:937-1033,Spectrin:9662-9989 three_prime_UTR=0-8810 homologies=sp|Q15149|PLEC_HUMAN:421-4360,CapteP217663:745-14962\n",
    "\n",
    "\n",
    "Transcript_1 len=37114 CDS=1318-34816,60-321 exon=0-37114,0-37114 five_prime_UTR=321-37114,34816-37114 gene=0-37114,0-37114 mRNA=0-37114,0-37114 hmm_matches=I-set:10078-10333,Ig_2:10093-10330,Ig_3:10096-10297,ig:10096-10306,BiPBP_C:10123-10273,C2-set_2:10141-10210,Izumo-Ig:10231-10306,fn3_2:10342-10585,fn3:10348-10606,Pur_ac_phosph_N:10465-10609,DUF2369:10489-10585,fn3:10654-10909,fn3_4:10672-10891,Tissue_fac:10702-10891,Pur_ac_phosph_N:10765-10885,Y_Y_Y:10771-10912,I-set:10807-10906,DUF2369:10819-10927,fn3_4:10951-11191,fn3:10957-11215,SusE:10987-11152,Pur_ac_phosph_N:10987-11194,Tissue_fac:11005-11191,DUF2369:11125-11200,I-set:11254-11500,ig:11284-11476,Ig_3:11302-11479,V-set:11356-11485,I-set:11557-11806,Ig_2:11605-11806,C2-set_2:11608-11659,Ig_3:11608-11761,ig:11608-11797,V-set:11641-11806,Receptor_2B4:11698-11782,Izumo-Ig:11704-11806,fn3:11821-12064,Pur_ac_phosph_N:11851-12046,Y_Y_Y:11953-12067,fn3:12118-12373,Tissue_fac:12145-12286,Pur_ac_phosph_N:12157-12352,I-set:12223-12358,fn3_4:12238-12376,Tissue_fac:12418-12607,fn3:12421-12679,fn3_2:12424-12664,fn3_4:12436-12658,Pur_ac_phosph_N:12445-12655,SusE:12448-12607,Y_Y_Y:12523-12679,DUF2369:12583-12658,I-set:12727-13000,C2-set_2:12733-12853,ig:12754-12982,V-set:12754-12997,Izumo-Ig:12757-13015,Ig_2:12760-13000,Ig_3:12784-12961,Receptor_2B4:12829-12985,I-set:13048-13291,Ig_3:13051-13237,ig:13051-13282,V-set:13054-13138,Ig_2:13060-13291,BiPBP_C:13066-13222,C2-set_2:13090-13171,Receptor_2B4:13147-13267,Tissue_fac:13294-13546,fn3_2:13297-13369,fn3:13303-13558,fn3_4:13309-13546,I-set:1330-1576,SusE:13318-13489,Pur_ac_phosph_N:13327-13555,Ig_3:1351-1507,Ig_2:1354-1549,V-set:1354-1585,fn3_2:13603-13675,fn3:13609-13858,Tissue_fac:13639-13834,Pur_ac_phosph_N:13642-13837,ig:1366-1543,C2-set_2:1369-1489,BiPBP_C:1372-1453,I-set:13732-13843,fn3_4:13909-14128,fn3:13909-14158,Pur_ac_phosph_N:13933-14134,Tissue_fac:13948-14128,Y_Y_Y:14062-14146,DUF2369:14068-14140,I-set:14197-14422,Ig_2:14221-14422,ig:14230-14434,V-set:14236-14449,Izumo-Ig:14245-14434,I-set:14491-14734,ig:14539-14695,Ig_2:14545-14734,V-set:14593-14716,Receptor_2B4:14737-14896,fn3_2:14743-14965,Tissue_fac:14743-14974,fn3:14749-14992,SusE:14758-14887,Pur_ac_phosph_N:14773-14977,Y_Y_Y:14881-15007,fn3:15046-15298,fn3_2:15064-15109,Pur_ac_phosph_N:15151-15277,fn3_2:15352-15589,fn3:15352-15604,Pur_ac_phosph_N:15370-15583,Tissue_fac:15379-15580,I-set:15655-15934,V-set:15673-15934,C2-set_2:15694-15787,ig:15700-15916,Ig_2:15700-15934,Ig_3:15703-15895,Receptor_2B4:15757-15919,Izumo-Ig:15766-15949,I-set:15982-16225,Ig_3:15985-16171,ig:15985-16216,V-set:15988-16072,Ig_2:15994-16225,BiPBP_C:16000-16156,I-set:1600-1828,C2-set_2:16024-16105,Receptor_2B4:16081-16201,Ig_2:1621-1735,Tissue_fac:16228-16480,fn3_2:16231-16303,fn3:16237-16492,fn3_4:16243-16480,SusE:16252-16423,Pur_ac_phosph_N:16261-16489,V-set:1627-1705,Ig_3:1627-1735,ig:1630-1723,C2-set_2:1639-1744,BiPBP_C:1648-1717,fn3_2:16537-16609,fn3:16543-16792,Tissue_fac:16573-16768,Pur_ac_phosph_N:16576-16771,I-set:16666-16777,fn3_4:16843-17062,fn3:16843-17092,Pur_ac_phosph_N:16867-17068,Tissue_fac:16882-17062,Y_Y_Y:16996-17080,DUF2369:17002-17074,I-set:17131-17356,Ig_2:17155-17356,ig:17164-17368,V-set:17170-17383,Izumo-Ig:17179-17368,I-set:17425-17668,ig:17473-17629,Ig_2:17479-17668,V-set:17527-17650,Receptor_2B4:17671-17830,fn3_2:17677-17899,Tissue_fac:17677-17908,fn3:17683-17926,SusE:17692-17821,Pur_ac_phosph_N:17707-17911,Y_Y_Y:17815-17941,fn3:17980-18232,fn3_2:17998-18043,Pur_ac_phosph_N:18085-18211,fn3_2:18286-18523,fn3:18286-18538,Pur_ac_phosph_N:18304-18517,Tissue_fac:18313-18514,I-set:18586-18859,ig:18610-18841,Ig_2:18619-18859,Ig_3:18631-18820,Izumo-Ig:18631-18874,C2-set_2:18634-18730,I-set:1867-2086,Receptor_2B4:18682-18844,V-set:18718-18823,ig:1882-2077,Ig_3:1882-2080,Ig_2:1882-2101,I-set:18898-19141,ig:18904-19132,Ig_3:18916-19102,BiPBP_C:18940-18997,Ig_2:18946-19141,C2-set_2:18949-19003,Izumo-Ig:1894-2104,V-set:18994-19105,fn3_2:19147-19378,fn3:19153-19402,fn3_4:19165-19234,SusE:19165-19345,Pur_ac_phosph_N:19174-19402,DUF2369:19318-19396,Tissue_fac:19453-19696,fn3_2:19456-19531,fn3:19459-19723,SusE:19468-19654,fn3_4:19471-19699,Pur_ac_phosph_N:19618-19699,DUF2369:19630-19702,fn3:19771-20023,V-set:1981-2086,Receptor_2B4:1996-2095,I-set:20062-20284,ig:20083-20281,Ig_2:20083-20287,V-set:20089-20179,Ig_3:20092-20278,Izumo-Ig:20107-20302,I-set:20353-20602,Ig_2:20365-20578,ig:20401-20572,Ig_3:20407-20563,V-set:20440-20557,Receptor_2B4:20491-20596,Izumo-Ig:20497-20602,fn3:20617-20869,fn3_4:20626-20779,fn3:20920-21178,fn3_4:20926-21154,Tissue_fac:20968-21154,Pur_ac_phosph_N:21040-21154,fn3_2:21055-21151,fn3:21226-21481,SusE:21259-21358,Pur_ac_phosph_N:21265-21463,I-set:2134-2359,ig:2149-2344,I-set:21532-21805,Ig_2:21559-21796,C2-set_2:21562-21727,Ig_3:21571-21766,ig:21577-21790,Izumo-Ig:21655-21769,V-set:21664-21805,Receptor_2B4:21694-21787,BiPBP_C:2170-2251,Ig_3:2179-2347,Ig_3:21814-22051,Ig_2:21814-22090,I-set:21826-22090,BiPBP_C:21880-21952,C2-set_2:21892-21970,Receptor_2B4:21910-22093,Ig_2:2203-2344,C2-set_2:2206-2260,Tissue_fac:22087-22342,fn3:22102-22357,fn3_4:22105-22345,Pur_ac_phosph_N:22117-22360,SusE:22123-22300,Receptor_2B4:2212-2356,DUF2369:22261-22345,fn3_2:22414-22654,fn3:22414-22669,fn3_4:22423-22642,SusE:22429-22522,V-set:2251-2353,Pur_ac_phosph_N:22555-22645,fn3:22714-22975,SusE:22747-22855,Pur_ac_phosph_N:22747-22954,Tissue_fac:22759-22879,Y_Y_Y:22921-22990,I-set:23029-23254,Ig_2:23035-23230,Ig_3:23038-23224,ig:23041-23221,V-set:23056-23266,Izumo-Ig:23149-23254,I-set:23308-23551,ig:23356-23536,Ig_2:23356-23551,V-set:23413-23521,Receptor_2B4:23449-23533,Izumo-Ig:23449-23563,Tissue_fac:23545-23800,fn3:23566-23821,fn3_4:23575-23800,Pur_ac_phosph_N:23611-23803,Y_Y_Y:23680-23827,DUF2369:23731-23833,Tissue_fac:23842-24109,SusE:23848-24046,fn3:23872-24118,fn3_4:23881-24097,Pur_ac_phosph_N:23902-24112,I-set:2401-2650,I-set:24022-24109,Y_Y_Y:24022-24121,DUF2369:24025-24109,fn3:24166-24418,SusE:24193-24358,Pur_ac_phosph_N:24199-24397,Tissue_fac:24214-24397,I-set:24307-24418,ig:2431-2602,DUF2369:24328-24406,Y_Y_Y:24367-24436,I-set:24466-24742,Ig_2:2446-2623,C2-set_2:24493-24634,Ig_2:24496-24742,ig:24499-24733,Ig_3:24508-24703,Receptor_2B4:24565-24727,V-set:24613-24742,C2-set_2:2461-2518,Izumo-Ig:24625-24754,I-set:24778-25030,Ig_3:24781-24991,Ig_2:24787-25015,ig:24790-25015,C2-set_2:24832-24985,BiPBP_C:24841-24949,Receptor_2B4:24904-24994,V-set:24910-24985,fn3:25042-25291,fn3_4:25057-25282,fn3_2:25066-25216,SusE:25078-25234,Pur_ac_phosph_N:25078-25279,Izumo-Ig:2521-2668,SusE:25339-25450,Tissue_fac:25345-25579,fn3_4:25348-25573,fn3:25348-25603,fn3_2:25360-25588,Pur_ac_phosph_N:25471-25621,Tissue_fac:25645-25882,fn3:25675-25906,SusE:25681-25885,Pur_ac_phosph_N:25681-25900,I-set:25741-25873,fn3_2:25804-25891,DUF2369:25825-25891,I-set:25945-26194,Ig_3:25990-26074,ig:25996-26161,BiPBP_C:26026-26146,Ig_2:26026-26164,I-set:26248-26491,Ig_2:26290-26482,C2-set_2:26296-26368,ig:26296-26464,V-set:26347-26467,fn3_2:26497-26740,fn3:26503-26752,fn3_4:26515-26611,SusE:26515-26611,Pur_ac_phosph_N:26518-26734,BiPBP_C:2656-2782,DUF2369:26662-26734,Y_Y_Y:26686-26749,I-set:2668-2899,C2-set_2:2677-2785,fn3:26806-27058,ig:2680-2896,fn3_4:26818-26908,Pur_ac_phosph_N:26821-27037,SusE:26833-26896,Ig_3:2692-2845,fn3_2:26941-27034,fn3:27106-27364,Pur_ac_phosph_N:27115-27349,fn3_4:27118-27211,Tissue_fac:27130-27346,SusE:27133-27301,DUF2369:27274-27349,I-set:27430-27691,ig:27460-27661,C2-set_2:27463-27640,Ig_2:27466-27652,Ig_3:27469-27646,Receptor_2B4:27514-27670,V-set:27520-27652,Izumo-Ig:27541-27691,I-set:27730-27979,ig:27748-27970,Ig_2:27778-27976,C2-set_2:27781-27883,Ig_3:27781-27940,Receptor_2B4:27802-27979,V-set:27829-27973,Izumo-Ig:27871-27964,Tissue_fac:27985-28138,fn3:27991-28246,SusE:28003-28090,fn3_4:28003-28219,Pur_ac_phosph_N:28006-28240,fn3_4:28294-28447,fn3:28297-28558,Tissue_fac:28345-28543,fn3:28609-28867,Pur_ac_phosph_N:28642-28846,SusE:28645-28792,DUF2369:28777-28846,Ig_2:28924-29116,Ig_3:28927-29032,ig:28927-29050,I-set:28927-29134,C2-set_2:28933-29023,I-set:29200-29452,ig:29206-29440,Ig_3:29218-29332,Ig_2:29221-29452,Receptor_2B4:29338-29431,I-set:2935-3163,fn3:29467-29707,SusE:29488-29575,Tissue_fac:29515-29704,Pur_ac_phosph_N:29626-29695,DUF2369:29626-29713,fn3:29761-30019,fn3_2:29767-30007,fn3_4:29776-29998,Tissue_fac:29785-30004,Pur_ac_phosph_N:29797-30016,DUF2369:29935-30010,Tissue_fac:30073-30319,fn3:30073-30331,fn3_2:30076-30349,Pur_ac_phosph_N:30094-30313,ig:3010-3145,I-set:30238-30325,DUF2369:30244-30316,Y_Y_Y:30277-30349,I-set:30379-30661,ig:30397-30634,C2-set_2:30400-30529,Ig_3:30403-30622,V-set:30403-30625,Ig_2:30406-30661,BiPBP_C:30427-30571,Izumo-Ig:30433-30676,Receptor_2B4:3043-3160,Receptor_2B4:30472-30646,ig:30703-30931,Ig_3:30706-30913,I-set:30706-30952,V-set:30709-30793,Ig_2:30718-30952,BiPBP_C:30736-30823,C2-set_2:30748-30931,Izumo-Ig:30841-30928,fn3:30967-31216,Pur_ac_phosph_N:31084-31198,fn3_4:31087-31195,DUF2369:31138-31201,fn3:31270-31540,SusE:31279-31363,fn3_4:31279-31369,Pur_ac_phosph_N:31477-31519,fn3:31588-31840,fn3_2:31603-31825,Pur_ac_phosph_N:31750-31816,I-set:31942-32209,Ig_2:31960-32209,Ig_3:31966-32173,ig:31966-32197,V-set:31975-32212,C2-set_2:31996-32065,Izumo-Ig:32059-32227,I-set:3205-3442,ig:32257-32494,I-set:32257-32503,Ig_3:32263-32464,BiPBP_C:32281-32365,C2-set_2:32302-32395,Ig_2:32305-32503,V-set:32362-32458,Receptor_2B4:32395-32497,Izumo-Ig:32398-32515,fn3:32518-32767,fn3_4:32527-32743,Pur_ac_phosph_N:32548-32767,DUF2369:32674-32749,BiPBP_C:3277-3331,V-set:3283-3409,fn3:32857-33103,fn3_4:32860-33037,Pur_ac_phosph_N:32893-33100,fn3_2:32998-33112,DUF2369:33034-33100,fn3:33196-33430,SusE:33214-33349,Tissue_fac:33232-33427,Pur_ac_phosph_N:33271-33430,DUF2369:33346-33433,fn3_2:33475-33700,fn3:33478-33727,Pur_ac_phosph_N:33589-33712,fn3:33787-34036,Pur_ac_phosph_N:33823-34006,Tissue_fac:33835-33973,fn3_4:33904-34027,DUF2369:33949-34039,fn3_2:34084-34306,fn3_4:34084-34321,fn3:34090-34333,DUF2369:34243-34330,Pur_ac_phosph_N:34252-34318,Tissue_fac:34372-34537,fn3_2:34381-34627,SusE:34390-34567,fn3:34390-34627,fn3_4:34399-34618,Pur_ac_phosph_N:34402-34615,I-set:34405-34567,DUF2369:34549-34627,fn3:34702-34951,fn3_4:34705-34945,Pur_ac_phosph_N:34708-34951,SusE:34720-34843,I-set:3481-3694,DUF2369:34864-34927,Ig_2:3490-3622,ig:3490-3676,Ig_3:3499-3652,V-set:3499-3673,fn3_4:35005-35242,fn3_2:35005-35248,fn3:35005-35254,Pur_ac_phosph_N:35038-35239,Tissue_fac:35044-35239,DUF2369:35164-35260,fn3_4:35326-35578,fn3:35326-35581,Pur_ac_phosph_N:35335-35581,DUF2369:35497-35578,fn3_2:35632-35776,fn3_4:35632-35869,fn3:35638-35896,SusE:35668-35758,Pur_ac_phosph_N:35668-35881,fn3_2:35944-36013,fn3:35950-36223,Pur_ac_phosph_N:35980-36202,fn3:36274-36532,fn3_4:36286-36511,Pur_ac_phosph_N:36319-36514,DUF2369:36427-36514,fn3:36583-36835,Pur_ac_phosph_N:36622-36838,Tissue_fac:36634-36820,DUF2369:36733-36811,BiPBP_C:3721-3928,I-set:3745-4015,V-set:3853-4015,Ig_3:4024-4243,I-set:4030-4279,Ig_2:4033-4243,Izumo-Ig:4057-4276,V-set:4063-4126,ig:4063-4243,C2-set_2:4066-4111,I-set:4294-4519,Ig_2:4318-4501,ig:4318-4519,Ig_3:4327-4501,V-set:4402-4510,Receptor_2B4:4447-4516,I-set:4558-4795,ig:4570-4771,Ig_2:4573-4690,I-set:4834-5062,Ig_2:4837-4966,ig:4849-5014,V-set:4864-4942,Ig_3:4867-4915,I-set:5104-5335,ig:5119-5302,I-set:5374-5614,Ig_3:5416-5587,Ig_2:5416-5605,ig:5416-5611,I-set:5638-5914,Ig_3:5683-5875,Pur_ac_phosph_N:5695-5812,ig:5710-5893,V-set:5725-5917,fn3:5926-6181,Pur_ac_phosph_N:5944-6184,fn3_4:5959-6172,Y_Y_Y:6022-6181,DUF2369:6094-6169,fn3:6238-6490,Pur_ac_phosph_N:6376-6493,Y_Y_Y:6436-6490,fn3:6541-6799,Pur_ac_phosph_N:6577-6775,SusE:6583-6661,Tissue_fac:6589-6679,I-set:6841-7114,ig:6862-7102,C2-set_2:6916-6973,Ig_2:6919-7114,Ig_3:6928-7075,Receptor_2B4:6934-7090,V-set:6973-7114,I-set:7135-7402,Ig_2:7156-7402,Ig_3:7165-7363,C2-set_2:7198-7333,fn3:7414-7666,fn3_4:7426-7645,SusE:7447-7609,Tissue_fac:7447-7645,Pur_ac_phosph_N:7459-7666,Receptor_2B4:7717-7780,fn3:7720-7972,SusE:7723-7912,Pur_ac_phosph_N:7726-7951,Tissue_fac:7750-7951,Y_Y_Y:7837-7960,I-set:7852-7960,DUF2369:7882-7957,fn3:8020-8278,Tissue_fac:8065-8254,fn3_2:8185-8263,Pur_ac_phosph_N:8191-8272,Y_Y_Y:8224-8275,Ig_2:8353-8449,I-set:8353-8533,ig:8362-8503,V-set:8416-8533,I-set:8602-8851,Ig_2:8650-8851,C2-set_2:8653-8734,Ig_3:8653-8797,ig:8656-8842,V-set:8689-8845,Izumo-Ig:8746-8842,fn3_2:8857-8929,fn3:8866-9109,fn3_4:8875-8971,Pur_ac_phosph_N:8878-9091,SusE:8896-9043,Y_Y_Y:8992-9112,DUF2369:9022-9094,fn3:9163-9415,Tissue_fac:9166-9310,fn3:9466-9727,SusE:9508-9694,Pur_ac_phosph_N:9640-9706,I-set:9787-10051,Ig_3:9820-10012,Ig_2:9820-10048,C2-set_2:9826-9904,ig:9829-10042,Receptor_2B4:9874-10036,Izumo-Ig:9913-10066,V-set:9937-10054 three_prime_UTR=0-1318,0-60 homologies=sp|Q8WZ42|TITIN_HUMAN:9-6984,HelroP191479:24510-29034"
   ]
  },
  {
   "cell_type": "code",
   "execution_count": null,
   "metadata": {},
   "outputs": [],
   "source": [
    "#Viewing the gff annotated\n",
    "Transcript_0\tHMMER\tprotein_hmm_match\t10061\t10324\t3.100000e-14\t-.\tID=homology:92;Parent=Transcript_0.p1;Name=I-set;Target=I-set 4 90 +;Note=Immunoglobulin I-set domain;accuracy=0.94;env_coords=10052 10324;Dbxref=\"Pfam:PF07679.12\"\n",
    "Transcript_0\tHMMER\tprotein_hmm_match\t10094\t10285\t2.200000e-05\t-.\tID=homology:245;Parent=Transcript_0.p1;Name=Ig_3;Target=Ig_3 13 69 +;Note=Immunoglobulin domain;accuracy=0.86;env_coords=10049 10285;Dbxref=\"Pfam:PF13927.2\"\n",
    "Transcript_0\tHMMER\tprotein_hmm_match\t10094\t10321\t3.300000e-06\t-.\tID=homology:199;Parent=Transcript_0.p1;Name=Ig_2;Target=Ig_2 14 79 +;Note=Immunoglobulin domain;accuracy=0.79;env_coords=10061 10330;Dbxref=\"Pfam:PF13895.2\"\n",
    "\n",
    "    \n",
    "    \n",
    "#Next take of each transcript the protein homology with the least e value and then search in the db the GO term if they have some in R maybe?\n",
    "\n",
    "#Or use interproscan with the fasta FILE and go with PFAM and GO optio\n"
   ]
  },
  {
   "cell_type": "markdown",
   "metadata": {},
   "source": [
    "# Go analysis"
   ]
  },
  {
   "cell_type": "code",
   "execution_count": null,
   "metadata": {},
   "outputs": [],
   "source": [
    "#First Interproscan was the software to be used because it uses a lot of algorithms, distinct dadtabases and returns the \n",
    "#the GO anotation directly\n",
    "Interproscan was downloaded directly from the github page, the latest version\n",
    "\n",
    "Interproscan was downloaded from github the latest, it didnt took long: https://github.com/ebi-pf-team/interproscan/archive/refs/tags/5.51-85.0.tar.gz\n",
    "\n",
    "Interproscan can be downloaded: http://ftp.ebi.ac.uk/pub/software/unix/iprscan/5/5.51-85.0/interproscan-5.51-85.0-64-bit.tar.gz\n",
    "\n",
    "You need to make sure the download was right by downloading this tar too: http://ftp.ebi.ac.uk/pub/software/unix/iprscan/5/5.51-85.0/interproscan-5.51-85.0-64-bit.tar.gz.md5\n",
    "        \n",
    "The one from github didn't have the interproscan script directly as said form the read the docs, it was inside the core/jms build, and It didn't have the jar file of interproscan so failed attempt\n",
    "\n",
    "#Other attempt with the new interproscan is going to be donde latter\n",
    "\n"
   ]
  },
  {
   "cell_type": "markdown",
   "metadata": {},
   "source": [
    "## Go analysis with hmmer2go and WEGO\n",
    "\n"
   ]
  },
  {
   "cell_type": "code",
   "execution_count": null,
   "metadata": {
    "collapsed": true
   },
   "outputs": [],
   "source": [
    "# because it didn't work in my house, I tried another software, HMMER2GO, just one other software is better but \n",
    "#it's very complicated, its name is https://github.com/eggnogdb/eggnog-mapper.\n",
    "\n",
    "\n",
    "#Methodology from HMMER2Go:#done locally in my computer, only works with hmmer algorith and PFam was the only db used in hmmer2go\n",
    "    \n",
    "#First you need to create a conda environment with Docker\n",
    "\n",
    "#Docker was installed via snap package from the terminal, https://github.com/sestaton/HMMER2GO\n",
    "\n",
    "sudo snap install docker\n",
    "\n",
    "#Now to create a container with hmmer2go in it run, you need to get  the fasta files in the db directory with the pfam-A database\n",
    "\n",
    "docker run -it --name hmmer2go-con -v $(pwd)/db:/db:Z sestaton/hmmer2go\n",
    "        \n",
    "#Now to create orfs of the fasta files from\n",
    "\n",
    "hmmer2go getorf -i dammit.transcripts.fasta -o genes_orfs.faa\n",
    "\n",
    "#Now we search for the orfs that code a domain form the fasta files\n",
    "\n",
    "hmmer2go run -i genes_orfs.faa -d Pfam-A.hmm -o genes_orf_Pfam-A.tblout\n",
    "\n",
    "#Nextwe map these domains to a GO term using tha database pfam2go\n",
    "\n",
    "hmmer2go mapterms -i genes_orfs_Pfam-A.tblout -o genes_orfs_Pfam-A_GO.tsv --map\n",
    "\n",
    "#Finally we use the WEGO tool by inputing the file separated by tabs wit a transformation like this from the command line:\n",
    "    \n",
    "tr ',' '\\t' < genes_orfs_Pfam-A_GO_GOterm_mapping.tsv > genes_orfs_Pfam-A_GO_Goterm_mappingG\n",
    "\n",
    "#And we input that file to the WEGO tool with the NATIVE format\n",
    "\n",
    "#THe GAF file can also be created but it was wrong somehow in my analysis with the following output:\n",
    "    \n",
    "Use of uninitialized value $go_mappings[4] in split at /usr/local/share/perl/5.26.1/HMMER2GO/Command/map2gaf.pm line 93, <$in> line 38952."
   ]
  },
  {
   "cell_type": "markdown",
   "metadata": {},
   "source": [
    "## Results"
   ]
  },
  {
   "cell_type": "code",
   "execution_count": null,
   "metadata": {},
   "outputs": [],
   "source": [
    "http://wego.genomics.cn/view/WEGOID68251124126200\n",
    "    "
   ]
  },
  {
   "cell_type": "markdown",
   "metadata": {},
   "source": [
    "<img src=\"Table_hmmer2goResults.png\">\n"
   ]
  },
  {
   "cell_type": "markdown",
   "metadata": {},
   "source": [
    "<img src=\"graph1.png\">"
   ]
  }
 ],
 "metadata": {
  "kernelspec": {
   "display_name": "Python 3",
   "language": "python",
   "name": "python3"
  },
  "language_info": {
   "codemirror_mode": {
    "name": "ipython",
    "version": 3
   },
   "file_extension": ".py",
   "mimetype": "text/x-python",
   "name": "python",
   "nbconvert_exporter": "python",
   "pygments_lexer": "ipython3",
   "version": "3.8.3"
  }
 },
 "nbformat": 4,
 "nbformat_minor": 4
}
