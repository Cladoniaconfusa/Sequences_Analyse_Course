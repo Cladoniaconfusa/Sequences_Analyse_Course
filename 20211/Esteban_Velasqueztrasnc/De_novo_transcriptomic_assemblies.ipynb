{
 "cells": [
  {
   "cell_type": "markdown",
   "metadata": {},
   "source": [
    "# Transcriptomic analysis"
   ]
  },
  {
   "cell_type": "markdown",
   "metadata": {},
   "source": [
    "## trimmomatic output files convention"
   ]
  },
  {
   "cell_type": "code",
   "execution_count": null,
   "metadata": {},
   "outputs": [],
   "source": [
    "Nomenclature\t\tMeaning\n",
    "FR1_nonrRNAs\t\tForward reads from the replicate 1 that did not map to ribosomal RNAs (rRNAs)\n",
    "FR2_nonrRNAs \t\tForward reads from the replicate 2 that did not map to ribosomal RNAs (rRNAs)\n",
    "RR1_nonrRNAs \t\tReverse reads from the replicate 1 that did not map to ribosomal RNAs (rRNAs)\n",
    "RR2_nonrRNAs \t\tReverse reads from the replicate 2 that did not map to ribosomal RNAs (rRNAs)\n",
    "FSE_R1_nonrRNAs \tForward single-end reads from the replicate 1 that did not map to ribosomal RNAs (rRNAs)\n",
    "FSE_R2_nonrRNAs \tForward single-end reads from the replicate 2 that did not map to ribosomal RNAs (rRNAs)\n",
    "FSE_all_nonrRNAs \tConcatenated reads from FSE_R1_nonrRNAs and FSE_R2_nonrRNAs files.\n",
    "FR1_FSE_nonrRNAs\tConcatenated forward reads plus forward single-end reads, both from replicate 1, that did not map to ribosomal RNAs (rRNAs)\n",
    "FR2_FSE_nonrRNAs\tConcatenated forward reads plus forward single-end reads, both from replicate 2, that did not map to ribosomal RNAs (rRNAs)\n",
    "F_all_nonrRNAs\t\tConcatenated reads from FR2_nonrRNAs and FR1_nonrRNAs files.\n",
    "R_all_nonrRNAs \t\tConcatenated reads from RR1_nonrRNAs and RR2_nonrRNAs files.\n",
    "R1_both_nonrRNAs \tmerged reads from FR1_nonrRNAs and RR1_nonrRNAs files.\n",
    "R2_both_nonrRNAs \tmerged reads from FR2_nonrRNAs  and  RR2_nonrRNAs files.\n",
    "R1_all_nonrRNAs \tmerged reads from RR1_nonrRNAs and FR1_FSE_nonrRNAs files.\n",
    "R2_all_nonrRNAs \tmerged reads from R2_all_nonrRNAs and FR2_FSE_nonrRNAs\n",
    "summa_nonrRNAs \t\tconcatenated reads from R2_all_nonrRNAs and R1_all_nonrRNAs \n",
    "\n"
   ]
  },
  {
   "cell_type": "code",
   "execution_count": null,
   "metadata": {},
   "outputs": [],
   "source": [
    "echo $PATH\n",
    "conda install busco=5.0.0\n",
    "908ac6e4843180b0da78008d8d13ad64"
   ]
  },
  {
   "cell_type": "markdown",
   "metadata": {},
   "source": [
    "### rnaSpades new assembly"
   ]
  },
  {
   "cell_type": "markdown",
   "metadata": {},
   "source": [
    "Get the binary of the last version of spades"
   ]
  },
  {
   "cell_type": "code",
   "execution_count": null,
   "metadata": {},
   "outputs": [],
   "source": [
    "conda create -n rnaquast\n",
    "\n",
    "source activate rnaquast\n",
    "conda activate rnaquast\n",
    "conda install rnaquast=5.0.0\n",
    "#command line:slurm\n",
    "\n",
    "    \n",
    "#!/bin/bash\n",
    "#SBATCH --partition=debug\n",
    "#SBATCH --nodes=1\n",
    "#SBATCH --ntasks-per-node=1\n",
    "#SBATCH --time=0-0:10:00\n",
    "#SBATCH --job-name=rnaspades\n",
    "#SBATCH --cpus-per-task=1\n",
    "#SBATCH -o result_%N_%j.out\t # File to which STDOUT will be written\n",
    "#SBATCH -e result_%N_%j.err\t # File to which STDERR will be written\n",
    "\n",
    "#SBATCH --mail-type=ALL\n",
    "#SBATCH --mail-user=evelas13@eafit.edu.co\n",
    "\n",
    "#export SBATCH_EXPORT=NONE\n",
    "#export OMP_NUM_THREADS=1\n",
    "\n",
    "## Para apolo:\n",
    "\n",
    "#Define variables\n",
    "\n",
    "spades=/home/evelas13/polyudea/SPAdes-3.15.1-Linux/bin/spades.py\n",
    "datosF=/shared-dirs/bec-cibiop/Poliquetos/Assemblies/F_all_nonrRNAs.fq.gz\n",
    "datosR=/shared-dirs/bec-cibiop/Poliquetos/Assemblies/R_all_nonrRNAs.fq.gz\n",
    "datosS=/shared-dirs/bec-cibiop/Poliquetos/Assemblies/FSE_all_nonrRNAs.fq.gz\n",
    "output=/home/evelas13/polyudea/spadesnew_output\n",
    "\n",
    "# Run programs\n",
    "$spades --rna -1 $datosF -2 $datosR -s $datosS -o $output\n",
    "\n"
   ]
  },
  {
   "cell_type": "code",
   "execution_count": null,
   "metadata": {},
   "outputs": [],
   "source": [
    "#Note\n",
    "#To get an entire transcriptome it's better to make an assembly with all the reads in all conditions as suggested by Spades Manual"
   ]
  },
  {
   "cell_type": "code",
   "execution_count": null,
   "metadata": {},
   "outputs": [],
   "source": [
    "#Running BUSCO\n",
    "#Create an environment with BUSCO in it\n",
    "conda create -n busco\n",
    "\n",
    "source activate busco\n",
    "conda activate busco\n",
    "conda install busco=5.0.0\n",
    "\n",
    "#slurm:\n",
    "datos=/home/evelas13/polyudea/spadesnew_output/trasnscripts.fasta\n",
    "\n",
    "run_BUSCO.py -i $datos-o rnaspades -l metazoa_odb10/ -m transcriptome -c 1\n",
    "\n",
    "busco -i /home/evelas13/polyudea/spadesnew_output/trasnscripts.fasta -o rnaspades -l metazoa_odb10/ -m transcriptome -c 1\n"
   ]
  },
  {
   "cell_type": "code",
   "execution_count": null,
   "metadata": {},
   "outputs": [],
   "source": [
    "##review his command to rnaquast\n",
    "#Running RNAquast\n",
    "#Create an environment with RNAQUAST in it\n",
    "\n",
    "#slurm:\n",
    "datos=/home/evelas13/polyudea/spadesnew_output/trasnscripts.fasta\n",
    "\n",
    "python rnaQUAST.py --transcript $datos --gene_mark -o $output\n"
   ]
  },
  {
   "cell_type": "code",
   "execution_count": null,
   "metadata": {},
   "outputs": [],
   "source": [
    "#Comparison of RNAQUAST of new spaeds and old:\n",
    "\n",
    "######NEWWWWW\n",
    "\n",
    "METRICS/TRANSCRIPTS                                    transcripts              \n",
    " == BASIC TRANSCRIPTS METRICS (calculated without reference genome and gene database) == \n",
    "Transcripts                                            235092                   \n",
    "\n",
    "Transcripts > 500 bp                                   56578                    \n",
    "Transcripts > 1000 bp                                  29279                    \n",
    "\n",
    "Average length of assembled transcripts                543.426                  \n",
    "Longest transcript                                     37387                    \n",
    "Total length                                           127755067                \n",
    "\n",
    "Transcript N50                                         1040    \n",
    "######OLDDDD\n",
    "\n",
    "METRICS/TRANSCRIPTS                                    rnaspades                \n",
    " == BASIC TRANSCRIPTS METRICS (calculated without reference genome and gene database) == \n",
    "Transcripts                                            235523                   \n",
    "\n",
    "Transcripts > 500 bp                                   56726                    \n",
    "Transcripts > 1000 bp                                  29292                    \n",
    "\n",
    "Average length of assembled transcripts                542.282                  \n",
    "Longest transcript                                     37387                    \n",
    "Total length                                           127719799                \n",
    "\n",
    "Transcript N50                                         1034   \n",
    "\n",
    "\n",
    "######NEWWWWW DISHORT SUMMARY REPORT \n",
    "\n",
    "METRICS/TRANSCRIPTS                                    transcripts              \n",
    " == BASIC TRANSCRIPTS METRICS (calculated without reference genome and gene database) == \n",
    "Transcripts                                            235092                   \n",
    "\n",
    "Transcripts > 500 bp                                   56578                    \n",
    "Transcripts > 1000 bp                                  29279                    \n",
    "\n",
    "Average length of assembled transcripts                543.426                  \n",
    "Longest transcript                                     37387                    \n",
    "Total length                                           127755067                \n",
    "\n",
    "Transcript N50                                         1040    \n",
    "\n",
    "\n"
   ]
  },
  {
   "cell_type": "code",
   "execution_count": null,
   "metadata": {},
   "outputs": [],
   "source": [
    "#Comparison of BUSCO of new spaeds and old:\n",
    "\n",
    "\n",
    "######OLDDDD\n",
    "\n",
    "# BUSCO version is: 3.0.2 \n",
    "# The lineage dataset is: metazoa_odb10 (Creation date: 2019-11-20, number of species: 65, number of BUSCOs: 954)\n",
    "# To reproduce this run: python /home/apolo-cgrisales/.conda/envs/Worms/bin/run_busco -i construct/rnaspades.fasta -o rnaspades -l metazoa_odb10/ -m transcriptome -c 1\n",
    "#\n",
    "# Summarized benchmarking in BUSCO notation for file construct/rnaspades.fasta\n",
    "# BUSCO was run in mode: transcriptome\n",
    "\n",
    "        C:91.8%[S:83.5%,D:8.3%],F:6.3%,M:1.9%,n:954\n",
    "\n",
    "        876     Complete BUSCOs (C)\n",
    "        797     Complete and single-copy BUSCOs (S)\n",
    "        79      Complete and duplicated BUSCOs (D)\n",
    "        60      Fragmented BUSCOs (F)\n",
    "        18      Missing BUSCOs (M)\n",
    "        954     Total BUSCO groups searched\n",
    "(END) \n",
    "\n",
    "\n",
    "###### NEW\n",
    "# BUSCO version is: 5.0.0 \n",
    "# The lineage dataset is:  (Creation date: 2021-02-17, number of species: 65, number of BUSCOs: 954)\n",
    "# Summarized benchmarking in BUSCO notation for file /home/evelas13/polyudea/spadesnew_output/transcripts.fasta\n",
    "# BUSCO was run in mode: transcriptome\n",
    "\n",
    "        ***** Results: *****\n",
    "\n",
    "        C:91.8%[S:82.3%,D:9.5%],F:5.6%,M:2.6%,n:954        \n",
    "        876     Complete BUSCOs (C)                        \n",
    "        785     Complete and single-copy BUSCOs (S)        \n",
    "        91      Complete and duplicated BUSCOs (D)         \n",
    "        53      Fragmented BUSCOs (F)                      \n",
    "        25      Missing BUSCOs (M)                         \n",
    "        954     Total BUSCO groups searched \n",
    "\n",
    "###### NEW# BUSCO version is: 5.0.0 \n",
    "# The lineage dataset is:  (Creation date: 2021-02-17, number of species: 65, number of BUSCOs: 954)\n",
    "# Summarized benchmarking in BUSCO notation for file /home/evelas13/polyudea/spadesrest_output/transcripts.fasta\n",
    "# BUSCO was run in mode: transcriptome\n",
    "\n",
    "        ***** Results: *****\n",
    "\n",
    "        C:91.8%[S:82.9%,D:8.9%],F:5.6%,M:2.6%,n:954        \n",
    "        876     Complete BUSCOs (C)                        \n",
    "        791     Complete and single-copy BUSCOs (S)        \n",
    "        85      Complete and duplicated BUSCOs (D)         \n",
    "        53      Fragmented BUSCOs (F)                      \n",
    "        25      Missing BUSCOs (M)                         \n",
    "        954     Total BUSCO groups searched   DIFF K\n",
    "\n"
   ]
  },
  {
   "cell_type": "code",
   "execution_count": null,
   "metadata": {},
   "outputs": [],
   "source": [
    "RSEM quality assesment"
   ]
  }
 ],
 "metadata": {
  "kernelspec": {
   "display_name": "Python 3",
   "language": "python",
   "name": "python3"
  },
  "language_info": {
   "codemirror_mode": {
    "name": "ipython",
    "version": 3
   },
   "file_extension": ".py",
   "mimetype": "text/x-python",
   "name": "python",
   "nbconvert_exporter": "python",
   "pygments_lexer": "ipython3",
   "version": "3.8.3"
  }
 },
 "nbformat": 4,
 "nbformat_minor": 4
}
