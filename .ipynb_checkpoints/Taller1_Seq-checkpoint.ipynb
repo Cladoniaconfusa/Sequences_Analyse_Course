{
 "cells": [
  {
   "cell_type": "markdown",
   "metadata": {},
   "source": [
    "### Ejercicio N1 de clase analisís de secuencias 2018-1 ###"
   ]
  },
  {
   "cell_type": "markdown",
   "metadata": {},
   "source": [
    "Utilizando los conociemientos recogidos en clase y en la transferencia de conocimiento sobre la tecnología ONT, realizar un Workflow para el análisis de datos provenientes de MinION de organismos cercanos a los de interés.\n",
    "    Pasos a seguir:\n"
   ]
  },
  {
   "cell_type": "markdown",
   "metadata": {},
   "source": [
    "a. Ingrese a la comunidad nanopore y búsque un reporte donde se haya utilizado Nanopore para secuenciar un organiso de interés.\n",
    "https://nanoporetech.com/community"
   ]
  },
  {
   "cell_type": "markdown",
   "metadata": {},
   "source": [
    "b. Busque el paper donde fue reportado y baje los datos \"brutos\" del cual derivaron el trabajo."
   ]
  },
  {
   "cell_type": "markdown",
   "metadata": {},
   "source": [
    "c. Siga el flujo de trabajo recomendado para el analisis de los datos, hasta la parte de Ensamble y documente cada paso en un Notebook de Jupyter. "
   ]
  },
  {
   "cell_type": "markdown",
   "metadata": {},
   "source": [
    "![title](ONT_WorkFlow.png)"
   ]
  },
  {
   "cell_type": "markdown",
   "metadata": {},
   "source": [
    "d. Haga estadísticas estimando el error del secuenciamento debido a la tecnología."
   ]
  },
  {
   "cell_type": "markdown",
   "metadata": {},
   "source": [
    "e. Suba el Notebook al https://github.com/UniversidadEAFIT/Sequences_Analyse_Course"
   ]
  },
  {
   "cell_type": "code",
   "execution_count": null,
   "metadata": {},
   "outputs": [],
   "source": []
  }
 ],
 "metadata": {
  "kernelspec": {
   "display_name": "Python 3",
   "language": "python",
   "name": "python3"
  },
  "language_info": {
   "codemirror_mode": {
    "name": "ipython",
    "version": 3
   },
   "file_extension": ".py",
   "mimetype": "text/x-python",
   "name": "python",
   "nbconvert_exporter": "python",
   "pygments_lexer": "ipython3",
   "version": "3.6.3"
  }
 },
 "nbformat": 4,
 "nbformat_minor": 2
}
