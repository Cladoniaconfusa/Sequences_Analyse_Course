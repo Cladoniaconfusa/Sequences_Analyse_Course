{
 "cells": [
  {
   "cell_type": "markdown",
   "metadata": {},
   "source": [
    "###### Universidad EAFIT \n",
    "#### Curso: Análisis de secuencias \n",
    "Ensamble genoma SARS-CoV-2, \n",
    "Por: Mateo Córdoba Agudelo"
   ]
  },
  {
   "cell_type": "code",
   "execution_count": null,
   "metadata": {},
   "outputs": [],
   "source": [
    "#Descargar archivo desde SRA. Este dataset proviene de una secuenciación de amplicones, no metagenómica.\n",
    "wget https://sra-download.ncbi.nlm.nih.gov/traces/sra73/SRR/011306/SRR11578365"
   ]
  },
  {
   "cell_type": "code",
   "execution_count": 2,
   "metadata": {},
   "outputs": [
    {
     "name": "stdout",
     "output_type": "stream",
     "text": [
      "Read 170587 spots for SRR11578365\n",
      "Written 170587 spots for SRR11578365\n"
     ]
    }
   ],
   "source": [
    "#Convertir de formato SRA a fastq, con reads foward y reverse separados\n",
    "fastq-dump --split-files SRR11578365.fastq \n",
    "\n"
   ]
  },
  {
   "cell_type": "code",
   "execution_count": null,
   "metadata": {},
   "outputs": [],
   "source": [
    "##Analizar y realizar trimming de las secuencias de manera automática \n",
    "fastp -i SRR11578365_1.fastq -I SRR11578365_2.fastq -o out1.fq -O out2.fq\n",
    "\n"
   ]
  },
  {
   "cell_type": "markdown",
   "metadata": {},
   "source": [
    "##### Visualizar output de fastq\n",
    "[fastq_output](fastp.html)\n"
   ]
  },
  {
   "cell_type": "code",
   "execution_count": null,
   "metadata": {},
   "outputs": [],
   "source": [
    "#Ensamblar genoma RNA con SPADES\n",
    "spades.py --rna --pe1-1 out1.fq --pe1-2 out2.fq -o spades"
   ]
  },
  {
   "cell_type": "code",
   "execution_count": 7,
   "metadata": {},
   "outputs": [
    {
     "name": "stdout",
     "output_type": "stream",
     "text": [
      "n\tn:500\tL50\tmin\tN80\tN50\tN20\tE-size\tmax\tsum\tname\n",
      "3\t3\t1\t2628\t7407\t19619\t19619\t15062\t19619\t29654\tspades2/transcripts.fasta\n"
     ]
    }
   ],
   "source": [
    "#Explorar calidad del ensamble con abyss-fac\n",
    "abyss-fac spades2/transcripts.fasta "
   ]
  },
  {
   "cell_type": "code",
   "execution_count": null,
   "metadata": {},
   "outputs": [],
   "source": [
    "#Obtener linaje del virus con Pangolin\n",
    "pangolin transcripts.fasta \n",
    "#Se obtiene que el primer contig pertenece al linaje B.9"
   ]
  },
  {
   "cell_type": "code",
   "execution_count": null,
   "metadata": {},
   "outputs": [],
   "source": [
    "#Obtener dotplot con el genoma de referencia MN908947.3\n",
    "nucmer --maxmatch  --nosimplify sequenceref.fasta transcripts.fasta \n",
    "mummerplot --filter --layout --png out.delta "
   ]
  },
  {
   "cell_type": "markdown",
   "metadata": {},
   "source": [
    "![dot](https://user-images.githubusercontent.com/60365265/83703365-fc22a480-a5d4-11ea-9710-e69ca9ac747c.png)\n"
   ]
  },
  {
   "cell_type": "code",
   "execution_count": null,
   "metadata": {},
   "outputs": [],
   "source": []
  }
 ],
 "metadata": {
  "kernelspec": {
   "display_name": "Bash",
   "language": "bash",
   "name": "bash"
  },
  "language_info": {
   "codemirror_mode": "shell",
   "file_extension": ".sh",
   "mimetype": "text/x-sh",
   "name": "bash"
  }
 },
 "nbformat": 4,
 "nbformat_minor": 4
}
