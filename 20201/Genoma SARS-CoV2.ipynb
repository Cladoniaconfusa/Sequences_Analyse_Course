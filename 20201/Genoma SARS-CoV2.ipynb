{
 "cells": [
  {
   "cell_type": "markdown",
   "metadata": {},
   "source": [
    "# Curso de Análisis de Secuencia 20201\n",
    "## Reconstrucción del genoma SARS-CoV2"
   ]
  },
  {
   "cell_type": "code",
   "execution_count": null,
   "metadata": {},
   "outputs": [],
   "source": [
    "%%bash\n",
    "wget https://sra-download.ncbi.nlm.nih.gov/traces/sra53/SRR/010879/SRR11140750"
   ]
  },
  {
   "cell_type": "code",
   "execution_count": 1,
   "metadata": {},
   "outputs": [],
   "source": [
    "#Extracción de información de bases de datos usando Biopython\n",
    "from Bio import Entrez\n",
    "from Bio import SeqIO"
   ]
  },
  {
   "cell_type": "code",
   "execution_count": 2,
   "metadata": {},
   "outputs": [],
   "source": [
    "#Autenticación en Entrez\n",
    "Entrez.email = \"jcorre38@eafit.edu.co\"  # Cambienlo por su correo\n",
    "handle = Entrez.einfo()\n",
    "result = Entrez.read(handle)\n",
    "handle.close()"
   ]
  },
  {
   "cell_type": "code",
   "execution_count": 15,
   "metadata": {},
   "outputs": [
    {
     "data": {
      "text/plain": [
       "'2'"
      ]
     },
     "execution_count": 15,
     "metadata": {},
     "output_type": "execute_result"
    }
   ],
   "source": [
    "#Buscando genomas de SARS CoV 2\n",
    "handle = Entrez.esearch(db=\"nucleotide\", term=\"Severe acute respiratory syndrome coronavirus 2 AND complete[Genome] AND Brazil[COUNTRY]\", idtype=\"acc\")\n",
    "record = Entrez.read(handle)\n",
    "record[\"Count\"]"
   ]
  },
  {
   "cell_type": "code",
   "execution_count": 16,
   "metadata": {},
   "outputs": [
    {
     "data": {
      "text/plain": [
       "['MT350282.1', 'MT126808.1']"
      ]
     },
     "execution_count": 16,
     "metadata": {},
     "output_type": "execute_result"
    }
   ],
   "source": [
    "#Examinado los records registrados en nucleotide\n",
    "id_list = record[\"IdList\"]\n",
    "id_list"
   ]
  },
  {
   "cell_type": "code",
   "execution_count": 6,
   "metadata": {
    "scrolled": false
   },
   "outputs": [],
   "source": [
    "#Accediendo a uno de los archivoa Genbank de los registros\n",
    "handle = Entrez.efetch(db=\"nucleotide\", id=id_list[0], rettype=\"gb\", retmode=\"text\")"
   ]
  },
  {
   "cell_type": "code",
   "execution_count": 13,
   "metadata": {},
   "outputs": [
    {
     "data": {
      "text/plain": [
       "'2'"
      ]
     },
     "execution_count": 13,
     "metadata": {},
     "output_type": "execute_result"
    }
   ],
   "source": [
    "handle = Entrez.esearch(db=\"protein\", term=\"Severe acute respiratory syndrome coronavirus 2 AND surface glycoprotein AND Brazil[COUNTRY]\", idtype=\"acc\")\n",
    "record = Entrez.read(handle)\n",
    "record[\"Count\"]"
   ]
  },
  {
   "cell_type": "code",
   "execution_count": 14,
   "metadata": {},
   "outputs": [
    {
     "data": {
      "text/plain": [
       "['QJA41641.1', 'QIG55994.1']"
      ]
     },
     "execution_count": 14,
     "metadata": {},
     "output_type": "execute_result"
    }
   ],
   "source": [
    "id_list = record[\"IdList\"]\n",
    "id_list"
   ]
  },
  {
   "cell_type": "code",
   "execution_count": 7,
   "metadata": {},
   "outputs": [
    {
     "name": "stdout",
     "output_type": "stream",
     "text": [
      "LOCUS       QIU81873                1273 aa            linear   VRL 14-MAY-2020\n",
      "DEFINITION  surface glycoprotein [Severe acute respiratory syndrome coronavirus\n",
      "            2].\n",
      "ACCESSION   QIU81873\n",
      "VERSION     QIU81873.2\n",
      "DBSOURCE    accession MT291835.2\n",
      "KEYWORDS    .\n",
      "SOURCE      Severe acute respiratory syndrome coronavirus 2 (SARS-CoV2)\n",
      "  ORGANISM  Severe acute respiratory syndrome coronavirus 2\n",
      "            Viruses; Riboviria; Nidovirales; Cornidovirineae; Coronaviridae;\n",
      "            Orthocoronavirinae; Betacoronavirus; Sarbecovirus.\n",
      "REFERENCE   1  (residues 1 to 1273)\n",
      "  AUTHORS   Fan,H., Qin,E., Wu,Y., Guo,Y., Zhang,X., Yong,Y., Hou,J., Xu,Z.,\n",
      "            Mu,J., Teng,Y., Mi,Z., Yang,R., Song,Y., Li,B. and Cui,Y.\n",
      "  TITLE     Direct Submission\n",
      "  JOURNAL   Submitted (06-APR-2020) Beijing Institute of Microbiology and\n",
      "            Epidemiology, Fengtai District, Beijing 100071, China\n",
      "COMMENT     On Apr 21, 2020 this sequence version replaced QIU81873.1.\n",
      "            This record was submitted to GenBank on behalf of the original\n",
      "            #submitter through Genome Warehouse (GWH,\n",
      "            https://bigd.big.ac.cn/gwh/) of the China National Center for\n",
      "            Bioinformation (CNCB)/National Genomics Data Center (NGDC,\n",
      "            https://bigd.big.ac.cn).\n",
      "            \n",
      "            ##Assembly-Data-START##\n",
      "            Assembly Method       :: CLC Genomic Workbench v. V9.0\n",
      "            Assembly Name         :: IME-BJ05\n",
      "            Coverage              :: 726\n",
      "            Sequencing Technology :: Ion Torrent X5Plus\n",
      "            ##Assembly-Data-END##\n",
      "FEATURES             Location/Qualifiers\n",
      "     source          1..1273\n",
      "                     /organism=\"Severe acute respiratory syndrome coronavirus\n",
      "                     2\"\n",
      "                     /isolate=\"SARS-CoV-2/human/CHN/Beijing_IME-BJ05/2020\"\n",
      "                     /isolation_source=\"throat swab\"\n",
      "                     /host=\"Homo sapiens\"\n",
      "                     /db_xref=\"taxon:2697049\"\n",
      "                     /country=\"China: Beijing\"\n",
      "                     /collection_date=\"2020-01-27\"\n",
      "                     /collected_by=\"Beijing Institute of Micribiology and\n",
      "                     Epidemiology\"\n",
      "     Protein         1..1273\n",
      "                     /product=\"surface glycoprotein\"\n",
      "     Region          13..304\n",
      "                     /region_name=\"SARS-CoV-like_Spike_S1_NTD\"\n",
      "                     /note=\"N-terminal domain of the S1 subunit of the Spike\n",
      "                     (S) protein from Severe acute respiratory syndrome\n",
      "                     coronavirus and related betacoronaviruses in the B\n",
      "                     lineage; cd21624\"\n",
      "                     /db_xref=\"CDD:394950\"\n",
      "     Site            order(38,41..44,113,115,167,198..200,225,228,230..234,\n",
      "                     281..283)\n",
      "                     /site_type=\"other\"\n",
      "                     /note=\"trimer interface [polypeptide binding]\"\n",
      "                     /db_xref=\"CDD:394950\"\n",
      "     Region          319..541\n",
      "                     /region_name=\"SARS-CoV-2_Spike_S1_RBD\"\n",
      "                     /note=\"receptor-binding domain of the S1 subunit of severe\n",
      "                     acute respiratory syndrome coronavirus 2 Spike (S)\n",
      "                     protein; cd21480\"\n",
      "                     /db_xref=\"CDD:394827\"\n",
      "     Site            order(319,321,357,381..383,386,390,394,396,413,516..517,\n",
      "                     521)\n",
      "                     /site_type=\"other\"\n",
      "                     /note=\"trimer interface [polypeptide binding]\"\n",
      "                     /db_xref=\"CDD:394827\"\n",
      "     Site            order(369..370,372,374,376..378,380,382,384..386,389..390,\n",
      "                     392,428..430,515,517,519)\n",
      "                     /site_type=\"other\"\n",
      "                     /note=\"cryptic epitope [polypeptide binding]\"\n",
      "                     /db_xref=\"CDD:394827\"\n",
      "     Site            order(417,446,449,453,455..456,475,486..487,489,493,496,\n",
      "                     498,500..502,505)\n",
      "                     /site_type=\"other\"\n",
      "                     /note=\"receptor binding site [polypeptide binding]\"\n",
      "                     /db_xref=\"CDD:394827\"\n",
      "     Site            438..508\n",
      "                     /site_type=\"other\"\n",
      "                     /note=\"receptor binding motif\"\n",
      "                     /db_xref=\"CDD:394827\"\n",
      "     Region          662..1270\n",
      "                     /region_name=\"Corona_S2\"\n",
      "                     /note=\"Coronavirus S2 glycoprotein; pfam01601\"\n",
      "                     /db_xref=\"CDD:279881\"\n",
      "     CDS             1..1273\n",
      "                     /gene=\"S\"\n",
      "                     /coded_by=\"MT291835.2:21538..25359\"\n",
      "ORIGIN      \n",
      "        1 mfvflvllpl vssqcvnltt rtqlppaytn sftrgvyypd kvfrssvlhs tqdlflpffs\n",
      "       61 nvtwfhaihv sgtngtkrfd npvlpfndgv yfasteksni irgwifgttl dsktqslliv\n",
      "      121 nnatnvvikv cefqfcndpf lgvyyhknnk swmesefrvy ssannctfey vsqpflmdle\n",
      "      181 gkqgnfknlr efvfknidgy fkiyskhtpi nlvrdlpqgf saleplvdlp iginitrfqt\n",
      "      241 llalhrsylt pgdsssgwta gaaayyvgyl qprtfllkyn engtitdavd caldplsetk\n",
      "      301 ctlksftvek giyqtsnfrv qptesivrfp nitnlcpfge vfnatrfasv yawnrkrisn\n",
      "      361 cvadysvlyn sasfstfkcy gvsptklndl cftnvyadsf virgdevrqi apgqtgkiad\n",
      "      421 ynyklpddft gcviawnsnn ldskvggnyn ylyrlfrksn lkpferdist eiyqagstpc\n",
      "      481 ngvegfncyf plqsygfqpt ngvgyqpyrv vvlsfellha patvcgpkks tnlvknkcvn\n",
      "      541 fnfngltgtg vltesnkkfl pfqqfgrdia dttdavrdpq tleilditpc sfggvsvitp\n",
      "      601 gtntsnqvav lyqdvnctev pvaihadqlt ptwrvystgs nvfqtragcl igvehvnnsy\n",
      "      661 ecdipigagi casyqtqtns prrarsvasq siiaytmslg aensvaysnn siaiptnfti\n",
      "      721 svtteilpvs mtktsvdctm yicgdstecs nlllqygsfc tqlnraltgi aveqdkntqe\n",
      "      781 vfaqvkqiyk tppikdfggf nfsqilpdps kpskrsfied llfnkvtlad agfikqygdc\n",
      "      841 lgdiaardli caqkfngltv lpplltdemi aqytsallag titsgwtfga gaalqipfam\n",
      "      901 qmayrfngig vtqnvlyenq klianqfnsa igkiqdslss tasalgklqd vvnqnaqaln\n",
      "      961 tlvkqlssnf gaissvlndi lsrldkveae vqidrlitgr lqslqtyvtq qliraaeira\n",
      "     1021 sanlaatkms ecvlgqskrv dfcgkgyhlm sfpqsaphgv vflhvtyvpa qeknfttapa\n",
      "     1081 ichdgkahfp regvfvsngt hwfvtqrnfy epqiittdnt fvsgncdvvi givnntvydp\n",
      "     1141 lqpeldsfke eldkyfknht spdvdlgdis ginasvvniq keidrlneva knlneslidl\n",
      "     1201 qelgkyeqyi kwpwyiwlgf iagliaivmv timlccmtsc csclkgccsc gscckfdedd\n",
      "     1261 sepvlkgvkl hyt\n",
      "//\n",
      "\n",
      "\n"
     ]
    }
   ],
   "source": [
    "handle = Entrez.efetch(db=\"protein\", id=id_list[0], rettype=\"gb\", retmode=\"text\")\n",
    "\n",
    "print(handle.read())"
   ]
  },
  {
   "cell_type": "code",
   "execution_count": 18,
   "metadata": {},
   "outputs": [],
   "source": [
    "f= open(\"ProteinasS.fasta\",\"w+\")\n",
    "#protS= []\n",
    "for i in range(0, 10):\n",
    "    handle = Entrez.efetch(db=\"protein\", id = id_list[i], rettype=\"fasta\", retmode=\"text\")\n",
    "    f.write(handle.read())\n",
    "    #f.write(protS.append(handle.read()))\n",
    "f.close() "
   ]
  },
  {
   "cell_type": "code",
   "execution_count": null,
   "metadata": {},
   "outputs": [],
   "source": [
    "\n"
   ]
  },
  {
   "cell_type": "code",
   "execution_count": null,
   "metadata": {},
   "outputs": [],
   "source": []
  }
 ],
 "metadata": {
  "kernelspec": {
   "display_name": "Python 3",
   "language": "python",
   "name": "python3"
  },
  "language_info": {
   "codemirror_mode": {
    "name": "ipython",
    "version": 3
   },
   "file_extension": ".py",
   "mimetype": "text/x-python",
   "name": "python",
   "nbconvert_exporter": "python",
   "pygments_lexer": "ipython3",
   "version": "3.7.3"
  }
 },
 "nbformat": 4,
 "nbformat_minor": 2
}
