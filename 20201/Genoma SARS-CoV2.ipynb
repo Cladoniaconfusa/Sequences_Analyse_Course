{
 "cells": [
  {
   "cell_type": "markdown",
   "metadata": {},
   "source": [
    "# Curso de Análisis de Secuencia 20201\n",
    "## Reconstrucción del genoma SARS-CoV2"
   ]
  },
  {
   "cell_type": "code",
   "execution_count": null,
   "metadata": {},
   "outputs": [],
   "source": [
    "%%bash\n",
    "wget https://sra-download.ncbi.nlm.nih.gov/traces/sra53/SRR/010879/SRR11140750"
   ]
  },
  {
   "cell_type": "code",
   "execution_count": 1,
   "metadata": {},
   "outputs": [],
   "source": [
    "#Extracción de información de bases de datos usando Biopython\n",
    "from Bio import Entrez\n",
    "from Bio import SeqIO"
   ]
  },
  {
   "cell_type": "code",
   "execution_count": 2,
   "metadata": {},
   "outputs": [],
   "source": [
    "#Autenticación en Entrez\n",
    "Entrez.email = \"jcorre38@eafit.edu.co\"  # Cambienlo por su correo\n",
    "handle = Entrez.einfo()\n",
    "result = Entrez.read(handle)\n",
    "handle.close()"
   ]
  },
  {
   "cell_type": "code",
   "execution_count": 4,
   "metadata": {},
   "outputs": [
    {
     "data": {
      "text/plain": [
       "'3761'"
      ]
     },
     "execution_count": 4,
     "metadata": {},
     "output_type": "execute_result"
    }
   ],
   "source": [
    "#Buscando genomas de SARS CoV 2\n",
    "handle = Entrez.esearch(db=\"nucleotide\", term=\"Severe acute respiratory syndrome coronavirus 2 AND complete[Genome]\", idtype=\"acc\")\n",
    "record = Entrez.read(handle)\n",
    "record[\"Count\"]"
   ]
  },
  {
   "cell_type": "code",
   "execution_count": 5,
   "metadata": {},
   "outputs": [
    {
     "data": {
      "text/plain": [
       "['MT477904.1', 'MT477903.1', 'MT477885.1', 'MT477862.1', 'MT477861.1', 'MT477860.1', 'MT477859.1', 'MT477858.1', 'MT477857.1', 'MT477856.1', 'MT477855.1', 'MT477854.1', 'MT477853.1', 'MT477852.1', 'MT477851.1', 'MT477850.1', 'MT477849.1', 'MT477848.1', 'MT477847.1', 'MT477846.1']"
      ]
     },
     "execution_count": 5,
     "metadata": {},
     "output_type": "execute_result"
    }
   ],
   "source": [
    "#Examinado los records registrados en nucleotide\n",
    "id_list = record[\"IdList\"]\n",
    "id_list"
   ]
  },
  {
   "cell_type": "code",
   "execution_count": 6,
   "metadata": {
    "scrolled": false
   },
   "outputs": [],
   "source": [
    "#Accediendo a uno de los archivoa Genbank de los registros\n",
    "handle = Entrez.efetch(db=\"nucleotide\", id=id_list[0], rettype=\"gb\", retmode=\"text\")"
   ]
  },
  {
   "cell_type": "code",
   "execution_count": 7,
   "metadata": {},
   "outputs": [
    {
     "data": {
      "text/plain": [
       "'3740'"
      ]
     },
     "execution_count": 7,
     "metadata": {},
     "output_type": "execute_result"
    }
   ],
   "source": [
    "handle = Entrez.esearch(db=\"protein\", term=\"Severe acute respiratory syndrome coronavirus 2 AND surface glycoprotein\", idtype=\"acc\")\n",
    "record = Entrez.read(handle)\n",
    "record[\"Count\"]"
   ]
  },
  {
   "cell_type": "code",
   "execution_count": 8,
   "metadata": {},
   "outputs": [
    {
     "data": {
      "text/plain": [
       "['BCF79924.1', 'BCF79914.1', 'BCF79904.1', 'BCF79894.1', 'BCF79884.1', 'BCF79874.1', 'BCF79864.1', 'BCF79854.1', 'BCF79844.1', 'BCF79834.1', 'BCF79824.1', 'BCF79814.1', 'BCF79804.1', 'BCF79794.1', 'BCF79784.1', 'BCF79774.1', 'QJU11812.1', 'QJU11800.1', 'QJU11649.1', 'QJU11637.1']"
      ]
     },
     "execution_count": 8,
     "metadata": {},
     "output_type": "execute_result"
    }
   ],
   "source": [
    "id_list = record[\"IdList\"]\n",
    "id_list"
   ]
  },
  {
   "cell_type": "code",
   "execution_count": 18,
   "metadata": {},
   "outputs": [],
   "source": [
    "f= open(\"ProteinasS.fasta\",\"w+\")\n",
    "#protS= []\n",
    "for i in range(0, 10):\n",
    "    handle = Entrez.efetch(db=\"protein\", id = id_list[i], rettype=\"fasta\", retmode=\"text\")\n",
    "    f.write(handle.read())\n",
    "    #f.write(protS.append(handle.read()))\n",
    "f.close() "
   ]
  },
  {
   "cell_type": "code",
   "execution_count": null,
   "metadata": {},
   "outputs": [],
   "source": [
    "\n"
   ]
  },
  {
   "cell_type": "code",
   "execution_count": null,
   "metadata": {},
   "outputs": [],
   "source": []
  }
 ],
 "metadata": {
  "kernelspec": {
   "display_name": "Python 3",
   "language": "python",
   "name": "python3"
  },
  "language_info": {
   "codemirror_mode": {
    "name": "ipython",
    "version": 3
   },
   "file_extension": ".py",
   "mimetype": "text/x-python",
   "name": "python",
   "nbconvert_exporter": "python",
   "pygments_lexer": "ipython3",
   "version": "3.7.3"
  }
 },
 "nbformat": 4,
 "nbformat_minor": 2
}
